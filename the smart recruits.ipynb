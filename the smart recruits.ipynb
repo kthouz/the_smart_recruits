{
 "cells": [
  {
   "cell_type": "code",
   "execution_count": 1,
   "metadata": {
    "collapsed": false
   },
   "outputs": [],
   "source": [
    "import pandas as pd\n",
    "import numpy as np\n",
    "import datetime as dt\n",
    "import matplotlib.pyplot as plt\n",
    "%matplotlib inline\n",
    "from pprint import pprint\n",
    "\n",
    "from sklearn.preprocessing import LabelEncoder"
   ]
  },
  {
   "cell_type": "markdown",
   "metadata": {},
   "source": [
    "## Define functions"
   ]
  },
  {
   "cell_type": "code",
   "execution_count": 2,
   "metadata": {
    "collapsed": true
   },
   "outputs": [],
   "source": [
    "def string2date(str_date):\n",
    "    try: #if the str_date has the format int-int-int\n",
    "        int_date = map(lambda x:int(x),str_date.split('/'))\n",
    "        return dt.date(int_date[2],int_date[0],int_date[1])\n",
    "    except:\n",
    "        print str_date\n",
    "        return str_date"
   ]
  },
  {
   "cell_type": "code",
   "execution_count": 3,
   "metadata": {
    "collapsed": true
   },
   "outputs": [],
   "source": [
    "# import data\n",
    "df_train = pd.read_csv('data/Train_pjb2QcD.csv')\n",
    "df_test = pd.read_csv('data/Test_wyCirpO.csv')"
   ]
  },
  {
   "cell_type": "markdown",
   "metadata": {
    "collapsed": true
   },
   "source": [
    "### Dataset description"
   ]
  },
  {
   "cell_type": "code",
   "execution_count": 4,
   "metadata": {
    "collapsed": false
   },
   "outputs": [
    {
     "name": "stdout",
     "output_type": "stream",
     "text": [
      "**size for:\n",
      "\tTrain:(9527, 23)\n",
      "\tTest(5045, 22)\n"
     ]
    }
   ],
   "source": [
    "print \"**size for:\\n\\tTrain:{0}\\n\\tTest{1}\".format(df_train.shape,df_test.shape)\n"
   ]
  },
  {
   "cell_type": "code",
   "execution_count": 5,
   "metadata": {
    "collapsed": false
   },
   "outputs": [
    {
     "data": {
      "text/html": [
       "<div>\n",
       "<table border=\"1\" class=\"dataframe\">\n",
       "  <thead>\n",
       "    <tr style=\"text-align: right;\">\n",
       "      <th></th>\n",
       "      <th>0</th>\n",
       "      <th>1</th>\n",
       "      <th>2</th>\n",
       "      <th>3</th>\n",
       "      <th>4</th>\n",
       "    </tr>\n",
       "  </thead>\n",
       "  <tbody>\n",
       "    <tr>\n",
       "      <th>ID</th>\n",
       "      <td>FIN1000001</td>\n",
       "      <td>FIN1000002</td>\n",
       "      <td>FIN1000003</td>\n",
       "      <td>FIN1000004</td>\n",
       "      <td>FIN1000005</td>\n",
       "    </tr>\n",
       "    <tr>\n",
       "      <th>Office_PIN</th>\n",
       "      <td>842001</td>\n",
       "      <td>842001</td>\n",
       "      <td>800001</td>\n",
       "      <td>814112</td>\n",
       "      <td>814112</td>\n",
       "    </tr>\n",
       "    <tr>\n",
       "      <th>Application_Receipt_Date</th>\n",
       "      <td>4/16/2007</td>\n",
       "      <td>4/16/2007</td>\n",
       "      <td>4/16/2007</td>\n",
       "      <td>4/16/2007</td>\n",
       "      <td>4/16/2007</td>\n",
       "    </tr>\n",
       "    <tr>\n",
       "      <th>Applicant_City_PIN</th>\n",
       "      <td>844120</td>\n",
       "      <td>844111</td>\n",
       "      <td>844101</td>\n",
       "      <td>814112</td>\n",
       "      <td>815351</td>\n",
       "    </tr>\n",
       "    <tr>\n",
       "      <th>Applicant_Gender</th>\n",
       "      <td>M</td>\n",
       "      <td>M</td>\n",
       "      <td>M</td>\n",
       "      <td>M</td>\n",
       "      <td>M</td>\n",
       "    </tr>\n",
       "    <tr>\n",
       "      <th>Applicant_BirthDate</th>\n",
       "      <td>12/19/1971</td>\n",
       "      <td>2/17/1983</td>\n",
       "      <td>1/16/1966</td>\n",
       "      <td>2/3/1988</td>\n",
       "      <td>7/4/1985</td>\n",
       "    </tr>\n",
       "    <tr>\n",
       "      <th>Applicant_Marital_Status</th>\n",
       "      <td>M</td>\n",
       "      <td>S</td>\n",
       "      <td>M</td>\n",
       "      <td>S</td>\n",
       "      <td>M</td>\n",
       "    </tr>\n",
       "    <tr>\n",
       "      <th>Applicant_Occupation</th>\n",
       "      <td>Others</td>\n",
       "      <td>Others</td>\n",
       "      <td>Business</td>\n",
       "      <td>Salaried</td>\n",
       "      <td>Others</td>\n",
       "    </tr>\n",
       "    <tr>\n",
       "      <th>Applicant_Qualification</th>\n",
       "      <td>Graduate</td>\n",
       "      <td>Class XII</td>\n",
       "      <td>Class XII</td>\n",
       "      <td>Class XII</td>\n",
       "      <td>Class XII</td>\n",
       "    </tr>\n",
       "    <tr>\n",
       "      <th>Manager_DOJ</th>\n",
       "      <td>11/10/2005</td>\n",
       "      <td>11/10/2005</td>\n",
       "      <td>5/27/2006</td>\n",
       "      <td>8/21/2003</td>\n",
       "      <td>5/8/2006</td>\n",
       "    </tr>\n",
       "    <tr>\n",
       "      <th>Manager_Joining_Designation</th>\n",
       "      <td>Level 1</td>\n",
       "      <td>Level 1</td>\n",
       "      <td>Level 1</td>\n",
       "      <td>Level 1</td>\n",
       "      <td>Level 1</td>\n",
       "    </tr>\n",
       "    <tr>\n",
       "      <th>Manager_Current_Designation</th>\n",
       "      <td>Level 2</td>\n",
       "      <td>Level 2</td>\n",
       "      <td>Level 1</td>\n",
       "      <td>Level 3</td>\n",
       "      <td>Level 1</td>\n",
       "    </tr>\n",
       "    <tr>\n",
       "      <th>Manager_Grade</th>\n",
       "      <td>3</td>\n",
       "      <td>3</td>\n",
       "      <td>2</td>\n",
       "      <td>4</td>\n",
       "      <td>2</td>\n",
       "    </tr>\n",
       "    <tr>\n",
       "      <th>Manager_Status</th>\n",
       "      <td>Confirmation</td>\n",
       "      <td>Confirmation</td>\n",
       "      <td>Confirmation</td>\n",
       "      <td>Confirmation</td>\n",
       "      <td>Confirmation</td>\n",
       "    </tr>\n",
       "    <tr>\n",
       "      <th>Manager_Gender</th>\n",
       "      <td>M</td>\n",
       "      <td>M</td>\n",
       "      <td>M</td>\n",
       "      <td>F</td>\n",
       "      <td>M</td>\n",
       "    </tr>\n",
       "    <tr>\n",
       "      <th>Manager_DoB</th>\n",
       "      <td>2/17/1978</td>\n",
       "      <td>2/17/1978</td>\n",
       "      <td>3/3/1969</td>\n",
       "      <td>8/14/1978</td>\n",
       "      <td>2/7/1971</td>\n",
       "    </tr>\n",
       "    <tr>\n",
       "      <th>Manager_Num_Application</th>\n",
       "      <td>2</td>\n",
       "      <td>2</td>\n",
       "      <td>0</td>\n",
       "      <td>0</td>\n",
       "      <td>2</td>\n",
       "    </tr>\n",
       "    <tr>\n",
       "      <th>Manager_Num_Coded</th>\n",
       "      <td>1</td>\n",
       "      <td>1</td>\n",
       "      <td>0</td>\n",
       "      <td>0</td>\n",
       "      <td>1</td>\n",
       "    </tr>\n",
       "    <tr>\n",
       "      <th>Manager_Business</th>\n",
       "      <td>335249</td>\n",
       "      <td>335249</td>\n",
       "      <td>357184</td>\n",
       "      <td>318356</td>\n",
       "      <td>230402</td>\n",
       "    </tr>\n",
       "    <tr>\n",
       "      <th>Manager_Num_Products</th>\n",
       "      <td>28</td>\n",
       "      <td>28</td>\n",
       "      <td>24</td>\n",
       "      <td>22</td>\n",
       "      <td>17</td>\n",
       "    </tr>\n",
       "    <tr>\n",
       "      <th>Manager_Business2</th>\n",
       "      <td>335249</td>\n",
       "      <td>335249</td>\n",
       "      <td>357184</td>\n",
       "      <td>318356</td>\n",
       "      <td>230402</td>\n",
       "    </tr>\n",
       "    <tr>\n",
       "      <th>Manager_Num_Products2</th>\n",
       "      <td>28</td>\n",
       "      <td>28</td>\n",
       "      <td>24</td>\n",
       "      <td>22</td>\n",
       "      <td>17</td>\n",
       "    </tr>\n",
       "    <tr>\n",
       "      <th>Business_Sourced</th>\n",
       "      <td>0</td>\n",
       "      <td>1</td>\n",
       "      <td>0</td>\n",
       "      <td>0</td>\n",
       "      <td>0</td>\n",
       "    </tr>\n",
       "  </tbody>\n",
       "</table>\n",
       "</div>"
      ],
      "text/plain": [
       "                                        0             1             2  \\\n",
       "ID                             FIN1000001    FIN1000002    FIN1000003   \n",
       "Office_PIN                         842001        842001        800001   \n",
       "Application_Receipt_Date        4/16/2007     4/16/2007     4/16/2007   \n",
       "Applicant_City_PIN                 844120        844111        844101   \n",
       "Applicant_Gender                        M             M             M   \n",
       "Applicant_BirthDate            12/19/1971     2/17/1983     1/16/1966   \n",
       "Applicant_Marital_Status                M             S             M   \n",
       "Applicant_Occupation               Others        Others      Business   \n",
       "Applicant_Qualification          Graduate     Class XII     Class XII   \n",
       "Manager_DOJ                    11/10/2005    11/10/2005     5/27/2006   \n",
       "Manager_Joining_Designation       Level 1       Level 1       Level 1   \n",
       "Manager_Current_Designation       Level 2       Level 2       Level 1   \n",
       "Manager_Grade                           3             3             2   \n",
       "Manager_Status               Confirmation  Confirmation  Confirmation   \n",
       "Manager_Gender                          M             M             M   \n",
       "Manager_DoB                     2/17/1978     2/17/1978      3/3/1969   \n",
       "Manager_Num_Application                 2             2             0   \n",
       "Manager_Num_Coded                       1             1             0   \n",
       "Manager_Business                   335249        335249        357184   \n",
       "Manager_Num_Products                   28            28            24   \n",
       "Manager_Business2                  335249        335249        357184   \n",
       "Manager_Num_Products2                  28            28            24   \n",
       "Business_Sourced                        0             1             0   \n",
       "\n",
       "                                        3             4  \n",
       "ID                             FIN1000004    FIN1000005  \n",
       "Office_PIN                         814112        814112  \n",
       "Application_Receipt_Date        4/16/2007     4/16/2007  \n",
       "Applicant_City_PIN                 814112        815351  \n",
       "Applicant_Gender                        M             M  \n",
       "Applicant_BirthDate              2/3/1988      7/4/1985  \n",
       "Applicant_Marital_Status                S             M  \n",
       "Applicant_Occupation             Salaried        Others  \n",
       "Applicant_Qualification         Class XII     Class XII  \n",
       "Manager_DOJ                     8/21/2003      5/8/2006  \n",
       "Manager_Joining_Designation       Level 1       Level 1  \n",
       "Manager_Current_Designation       Level 3       Level 1  \n",
       "Manager_Grade                           4             2  \n",
       "Manager_Status               Confirmation  Confirmation  \n",
       "Manager_Gender                          F             M  \n",
       "Manager_DoB                     8/14/1978      2/7/1971  \n",
       "Manager_Num_Application                 0             2  \n",
       "Manager_Num_Coded                       0             1  \n",
       "Manager_Business                   318356        230402  \n",
       "Manager_Num_Products                   22            17  \n",
       "Manager_Business2                  318356        230402  \n",
       "Manager_Num_Products2                  22            17  \n",
       "Business_Sourced                        0             0  "
      ]
     },
     "execution_count": 5,
     "metadata": {},
     "output_type": "execute_result"
    }
   ],
   "source": [
    "# preview dataset\n",
    "df_train.head().T"
   ]
  },
  {
   "cell_type": "markdown",
   "metadata": {},
   "source": [
    "#### - rename some columns for an easy future exploration"
   ]
  },
  {
   "cell_type": "code",
   "execution_count": 6,
   "metadata": {
    "collapsed": false
   },
   "outputs": [],
   "source": [
    "df_train.rename(columns={'Applicant_BirthDate':'Applicant_DoB','Manager_DOJ':'Manager_DoJ'}, inplace=True)"
   ]
  },
  {
   "cell_type": "markdown",
   "metadata": {},
   "source": [
    "#### - Missing values and unique values\n",
    "For each column we print the number of missing values as well as the number of unique values"
   ]
  },
  {
   "cell_type": "code",
   "execution_count": 7,
   "metadata": {
    "collapsed": false
   },
   "outputs": [
    {
     "data": {
      "text/html": [
       "<div>\n",
       "<table border=\"1\" class=\"dataframe\">\n",
       "  <thead>\n",
       "    <tr style=\"text-align: right;\">\n",
       "      <th></th>\n",
       "      <th>perc_missing_val</th>\n",
       "      <th>num_uniq_val</th>\n",
       "    </tr>\n",
       "  </thead>\n",
       "  <tbody>\n",
       "    <tr>\n",
       "      <th>ID</th>\n",
       "      <td>0.000000</td>\n",
       "      <td>9527</td>\n",
       "    </tr>\n",
       "    <tr>\n",
       "      <th>Office_PIN</th>\n",
       "      <td>0.000000</td>\n",
       "      <td>98</td>\n",
       "    </tr>\n",
       "    <tr>\n",
       "      <th>Application_Receipt_Date</th>\n",
       "      <td>0.000000</td>\n",
       "      <td>357</td>\n",
       "    </tr>\n",
       "    <tr>\n",
       "      <th>Applicant_City_PIN</th>\n",
       "      <td>1.018159</td>\n",
       "      <td>2980</td>\n",
       "    </tr>\n",
       "    <tr>\n",
       "      <th>Applicant_Gender</th>\n",
       "      <td>0.703264</td>\n",
       "      <td>3</td>\n",
       "    </tr>\n",
       "    <tr>\n",
       "      <th>Applicant_DoB</th>\n",
       "      <td>0.766243</td>\n",
       "      <td>5837</td>\n",
       "    </tr>\n",
       "    <tr>\n",
       "      <th>Applicant_Marital_Status</th>\n",
       "      <td>0.766243</td>\n",
       "      <td>5</td>\n",
       "    </tr>\n",
       "    <tr>\n",
       "      <th>Applicant_Occupation</th>\n",
       "      <td>12.816207</td>\n",
       "      <td>6</td>\n",
       "    </tr>\n",
       "    <tr>\n",
       "      <th>Applicant_Qualification</th>\n",
       "      <td>0.902698</td>\n",
       "      <td>12</td>\n",
       "    </tr>\n",
       "    <tr>\n",
       "      <th>Manager_DoJ</th>\n",
       "      <td>7.169098</td>\n",
       "      <td>647</td>\n",
       "    </tr>\n",
       "    <tr>\n",
       "      <th>Manager_Joining_Designation</th>\n",
       "      <td>7.169098</td>\n",
       "      <td>9</td>\n",
       "    </tr>\n",
       "    <tr>\n",
       "      <th>Manager_Current_Designation</th>\n",
       "      <td>7.169098</td>\n",
       "      <td>6</td>\n",
       "    </tr>\n",
       "    <tr>\n",
       "      <th>Manager_Grade</th>\n",
       "      <td>7.169098</td>\n",
       "      <td>11</td>\n",
       "    </tr>\n",
       "    <tr>\n",
       "      <th>Manager_Status</th>\n",
       "      <td>7.169098</td>\n",
       "      <td>3</td>\n",
       "    </tr>\n",
       "    <tr>\n",
       "      <th>Manager_Gender</th>\n",
       "      <td>7.169098</td>\n",
       "      <td>3</td>\n",
       "    </tr>\n",
       "    <tr>\n",
       "      <th>Manager_DoB</th>\n",
       "      <td>7.169098</td>\n",
       "      <td>1246</td>\n",
       "    </tr>\n",
       "    <tr>\n",
       "      <th>Manager_Num_Application</th>\n",
       "      <td>7.169098</td>\n",
       "      <td>18</td>\n",
       "    </tr>\n",
       "    <tr>\n",
       "      <th>Manager_Num_Coded</th>\n",
       "      <td>7.169098</td>\n",
       "      <td>11</td>\n",
       "    </tr>\n",
       "    <tr>\n",
       "      <th>Manager_Business</th>\n",
       "      <td>7.169098</td>\n",
       "      <td>3748</td>\n",
       "    </tr>\n",
       "    <tr>\n",
       "      <th>Manager_Num_Products</th>\n",
       "      <td>7.169098</td>\n",
       "      <td>58</td>\n",
       "    </tr>\n",
       "    <tr>\n",
       "      <th>Manager_Business2</th>\n",
       "      <td>7.169098</td>\n",
       "      <td>3744</td>\n",
       "    </tr>\n",
       "    <tr>\n",
       "      <th>Manager_Num_Products2</th>\n",
       "      <td>7.169098</td>\n",
       "      <td>58</td>\n",
       "    </tr>\n",
       "    <tr>\n",
       "      <th>Business_Sourced</th>\n",
       "      <td>0.000000</td>\n",
       "      <td>2</td>\n",
       "    </tr>\n",
       "  </tbody>\n",
       "</table>\n",
       "</div>"
      ],
      "text/plain": [
       "                             perc_missing_val  num_uniq_val\n",
       "ID                                   0.000000          9527\n",
       "Office_PIN                           0.000000            98\n",
       "Application_Receipt_Date             0.000000           357\n",
       "Applicant_City_PIN                   1.018159          2980\n",
       "Applicant_Gender                     0.703264             3\n",
       "Applicant_DoB                        0.766243          5837\n",
       "Applicant_Marital_Status             0.766243             5\n",
       "Applicant_Occupation                12.816207             6\n",
       "Applicant_Qualification              0.902698            12\n",
       "Manager_DoJ                          7.169098           647\n",
       "Manager_Joining_Designation          7.169098             9\n",
       "Manager_Current_Designation          7.169098             6\n",
       "Manager_Grade                        7.169098            11\n",
       "Manager_Status                       7.169098             3\n",
       "Manager_Gender                       7.169098             3\n",
       "Manager_DoB                          7.169098          1246\n",
       "Manager_Num_Application              7.169098            18\n",
       "Manager_Num_Coded                    7.169098            11\n",
       "Manager_Business                     7.169098          3748\n",
       "Manager_Num_Products                 7.169098            58\n",
       "Manager_Business2                    7.169098          3744\n",
       "Manager_Num_Products2                7.169098            58\n",
       "Business_Sourced                     0.000000             2"
      ]
     },
     "execution_count": 7,
     "metadata": {},
     "output_type": "execute_result"
    }
   ],
   "source": [
    "miss_uniq_vals = []\n",
    "for col in df_train.columns:\n",
    "    miss_uniq_vals.append((100*len(df_train[df_train[col].isnull()])/float(df_train.shape[0]),len(pd.unique(df_train[col]))))\n",
    "miss_uniq_vals = pd.DataFrame(miss_uniq_vals)\n",
    "miss_uniq_vals.index = df_train.columns.tolist()\n",
    "miss_uniq_vals.columns = ['perc_missing_val','num_uniq_val']\n",
    "miss_uniq_vals"
   ]
  },
  {
   "cell_type": "markdown",
   "metadata": {},
   "source": [
    "Let's now impute missing values in each column. I will replace missing values by the most frequent value of the corresponding column"
   ]
  },
  {
   "cell_type": "code",
   "execution_count": 8,
   "metadata": {
    "collapsed": false
   },
   "outputs": [],
   "source": [
    "imputers = {}\n",
    "for col in df_train.columns:\n",
    "    if miss_uniq_vals.loc[col,'perc_missing_val']>0:\n",
    "        # uncomment these lines to check the number of missing values before and after imputation\n",
    "        #print col,'\\t',df_train[df_train[col].isnull()].shape[0],'\\t',\n",
    "        most_freq = df_train[col].mode()[0]\n",
    "        df_train[col].replace(np.nan,most_freq,inplace=True)\n",
    "        imputers[col] = most_freq\n",
    "        #print df_train[df_train[col].isnull()].shape[0]"
   ]
  },
  {
   "cell_type": "markdown",
   "metadata": {},
   "source": [
    "#### - Data types"
   ]
  },
  {
   "cell_type": "code",
   "execution_count": 9,
   "metadata": {
    "collapsed": false
   },
   "outputs": [],
   "source": [
    "data_types = {\n",
    "    'dates':['Application_Receipt_Date','Applicant_DoB','Manager_DoJ','Manager_DoB'],\n",
    "    'unordered_cat':['Office_PIN','Applicant_City_PIN','Applicant_Gender','Applicant_Marital_Status',\n",
    "                   'Applicant_Occupation','Applicant_Qualification','Manager_Status','Manager_Gender',\n",
    "                   'Manager_Business','Manager_Business2','Business_Sourced'],\n",
    "    'ordered_cat':['Manager_Joining_Designation','Manager_Current_Designation'],\n",
    "    'integers':['Manager_Grade','Manager_Num_Application','Manager_Num_Coded','Manager_Num_Products',\n",
    "                'Manager_Num_Products2']\n",
    "}"
   ]
  },
  {
   "cell_type": "markdown",
   "metadata": {},
   "source": [
    "Now, we convert each column to its proper data type and prepare a label encoder to transform categorical into numeric. this will be used later"
   ]
  },
  {
   "cell_type": "code",
   "execution_count": 10,
   "metadata": {
    "collapsed": false
   },
   "outputs": [],
   "source": [
    "label_encoders = {}\n",
    "for col in df_train.columns[:-1]: # dont convert target column yet\n",
    "    if col in data_types['dates']:\n",
    "        df_train[col] = df_train[col].apply(lambda x:string2date(x))\n",
    "    if col in data_types['ordered_cat']:\n",
    "        df_train[col] = pd.Categorical(df_train[col],ordered=True)\n",
    "        label_encoders[col] = LabelEncoder()\n",
    "        label_encoders[col].fit(df_train[col])\n",
    "    if col in data_types['unordered_cat']:\n",
    "        df_train[col] = pd.Categorical(df_train[col],ordered=False)\n",
    "        label_encoders[col] = LabelEncoder()\n",
    "        label_encoders[col].fit(df_train[col])\n",
    "    if col in data_types['integers']:\n",
    "        df_train[col] = df_train[col].astype(int)"
   ]
  },
  {
   "cell_type": "markdown",
   "metadata": {},
   "source": [
    "### Univariate Data Exploration and Engineering"
   ]
  },
  {
   "cell_type": "markdown",
   "metadata": {},
   "source": [
    "#### - Target label"
   ]
  },
  {
   "cell_type": "code",
   "execution_count": 11,
   "metadata": {
    "collapsed": false
   },
   "outputs": [
    {
     "name": "stdout",
     "output_type": "stream",
     "text": [
      "The probability of picking a positive Business Sourced is 0.342920121759\n"
     ]
    }
   ],
   "source": [
    "print \"The probability of picking a positive Business Sourced is\",df_train[df_train.Business_Sourced == 1].shape[0]/float(df_train.shape[0])"
   ]
  },
  {
   "cell_type": "markdown",
   "metadata": {},
   "source": [
    "#### - Date type"
   ]
  },
  {
   "cell_type": "code",
   "execution_count": 12,
   "metadata": {
    "collapsed": false
   },
   "outputs": [
    {
     "data": {
      "image/png": "[encoded data removed]",
      "text/plain": [
       "<matplotlib.figure.Figure at 0x10c1e7f50>"
      ]
     },
     "metadata": {},
     "output_type": "display_data"
    },
    {
     "data": {
      "image/png": "[encoded data removed]",
      "text/plain": [
       "<matplotlib.figure.Figure at 0x10beca190>"
      ]
     },
     "metadata": {},
     "output_type": "display_data"
    }
   ],
   "source": [
    "# We plot earlier (date of births) and later dates separately\n",
    "fig, (ax1,ax2) = plt.subplots(1,2,figsize=(15,4))\n",
    "legends1 = []\n",
    "legends2 = []\n",
    "for col in data_types['dates']:\n",
    "    if 'DoB' in col:\n",
    "        df_train[col].hist(alpha=0.6,ax=ax1)\n",
    "        legends1.append(col)\n",
    "    else:\n",
    "        df_train[col].hist(alpha=0.6,ax=ax2)\n",
    "        legends2.append(col)\n",
    "ax1.legend(legends1,loc='best')\n",
    "ax2.legend(legends2,loc='best')\n",
    "plt.show()\n",
    "\n",
    "# plot, the target label as function of each date column\n",
    "fig, ax = plt.subplots(1,4,figsize=(20,4))\n",
    "for col in data_types['dates']:\n",
    "    df_train[col][df_train.Business_Sourced == 0].hist(alpha = 0.6,ax=ax[data_types['dates'].index(col)],xrot=90)\n",
    "    df_train[col][df_train.Business_Sourced == 1].hist(alpha = 0.6,ax=ax[data_types['dates'].index(col)],xrot=90)\n",
    "    #ax[data_types['dates'].index(col)].plot(df_train[col],df_train.Business_Sourced,'bo',alpha = 0.5)\n",
    "    ax[data_types['dates'].index(col)].set_title(col)\n",
    "    ax[data_types['dates'].index(col)].legend([0,1],loc='best')\n",
    "plt.show()\n",
    "\n"
   ]
  },
  {
   "cell_type": "markdown",
   "metadata": {},
   "source": [
    "- Approximately applicants are about 10 years younger managers (top-left figure)\n",
    "- There was a hug increase in hiring managers starting with mid 2006, followed by hiring new applicants as well in 2007. However it looks like the number of applicants started to decrease in beginning 2008\n",
    "\n",
    "It would also be interesting to look at:\n",
    "- Difference in age between manager and applicant\n",
    "- Look at Business Sourced as function of just years or months (but not dates)\n",
    "- Manager's experience time with the firm. This is the time between Applicant's receipt date and when the manager joined. **Note**: Some value may turn to be negative. This would mean that the manager joined after an application has been filed\n",
    "\n",
    "So, let's create new data columns first"
   ]
  },
  {
   "cell_type": "code",
   "execution_count": 31,
   "metadata": {
    "collapsed": false
   },
   "outputs": [],
   "source": [
    "df_train['Applicant_Manager_DA'] = np.array(map(lambda x:float(x.days),df_train.Applicant_DoB - df_train.Manager_DoB))/365.0\n",
    "df_train['Applicant_DoB_Year'] = df_train.Applicant_DoB.apply(lambda x:x.year)\n",
    "df_train['Manager_DoB_Year'] = df_train.Manager_DoB.apply(lambda x:x.year)\n",
    "df_train['Applicant_RD_Month'] = df_train.Application_Receipt_Date.apply(lambda x:x.month)\n",
    "df_train['Manager_DoJ_Year'] = df_train.Manager_DoJ.apply(lambda x:x.year)\n",
    "df_train['Manager_Experience'] = np.array(map(lambda x:x.days,df_train.Application_Receipt_Date - df_train.Manager_DoJ))/365.0\n",
    "new_cols = ['Applicant_Manager_DA','Applicant_DoB_Year','Manager_DoB_Year','Applicant_RD_Month','Manager_DoJ_Year','Manager_Experience']"
   ]
  },
  {
   "cell_type": "code",
   "execution_count": 32,
   "metadata": {
    "collapsed": false
   },
   "outputs": [
    {
     "data": {
      "text/html": [
       "<div>\n",
       "<table border=\"1\" class=\"dataframe\">\n",
       "  <thead>\n",
       "    <tr style=\"text-align: right;\">\n",
       "      <th></th>\n",
       "      <th>Applicant_Manager_DA</th>\n",
       "      <th>Applicant_DoB_Year</th>\n",
       "      <th>Manager_DoB_Year</th>\n",
       "      <th>Applicant_RD_Month</th>\n",
       "      <th>Manager_DoJ_Year</th>\n",
       "      <th>Manager_Experience</th>\n",
       "    </tr>\n",
       "  </thead>\n",
       "  <tbody>\n",
       "    <tr>\n",
       "      <th>count</th>\n",
       "      <td>9527.000000</td>\n",
       "      <td>9527.000000</td>\n",
       "      <td>9527.000000</td>\n",
       "      <td>9527.000000</td>\n",
       "      <td>9527.000000</td>\n",
       "      <td>9527.000000</td>\n",
       "    </tr>\n",
       "    <tr>\n",
       "      <th>mean</th>\n",
       "      <td>2.938533</td>\n",
       "      <td>1974.817046</td>\n",
       "      <td>1971.904062</td>\n",
       "      <td>6.714601</td>\n",
       "      <td>2005.894825</td>\n",
       "      <td>1.397478</td>\n",
       "    </tr>\n",
       "    <tr>\n",
       "      <th>std</th>\n",
       "      <td>11.553439</td>\n",
       "      <td>10.257713</td>\n",
       "      <td>6.812725</td>\n",
       "      <td>3.129828</td>\n",
       "      <td>1.777298</td>\n",
       "      <td>1.697698</td>\n",
       "    </tr>\n",
       "    <tr>\n",
       "      <th>min</th>\n",
       "      <td>-47.090411</td>\n",
       "      <td>1930.000000</td>\n",
       "      <td>1949.000000</td>\n",
       "      <td>1.000000</td>\n",
       "      <td>2001.000000</td>\n",
       "      <td>-0.230137</td>\n",
       "    </tr>\n",
       "    <tr>\n",
       "      <th>25%</th>\n",
       "      <td>-2.854795</td>\n",
       "      <td>1970.000000</td>\n",
       "      <td>1967.000000</td>\n",
       "      <td>5.000000</td>\n",
       "      <td>2005.000000</td>\n",
       "      <td>0.115068</td>\n",
       "    </tr>\n",
       "    <tr>\n",
       "      <th>50%</th>\n",
       "      <td>3.545205</td>\n",
       "      <td>1978.000000</td>\n",
       "      <td>1973.000000</td>\n",
       "      <td>6.000000</td>\n",
       "      <td>2007.000000</td>\n",
       "      <td>0.693151</td>\n",
       "    </tr>\n",
       "    <tr>\n",
       "      <th>75%</th>\n",
       "      <td>10.234247</td>\n",
       "      <td>1982.000000</td>\n",
       "      <td>1977.000000</td>\n",
       "      <td>9.000000</td>\n",
       "      <td>2007.000000</td>\n",
       "      <td>1.967123</td>\n",
       "    </tr>\n",
       "    <tr>\n",
       "      <th>max</th>\n",
       "      <td>35.430137</td>\n",
       "      <td>1992.000000</td>\n",
       "      <td>1986.000000</td>\n",
       "      <td>12.000000</td>\n",
       "      <td>2008.000000</td>\n",
       "      <td>7.194521</td>\n",
       "    </tr>\n",
       "  </tbody>\n",
       "</table>\n",
       "</div>"
      ],
      "text/plain": [
       "       Applicant_Manager_DA  Applicant_DoB_Year  Manager_DoB_Year  \\\n",
       "count           9527.000000         9527.000000       9527.000000   \n",
       "mean               2.938533         1974.817046       1971.904062   \n",
       "std               11.553439           10.257713          6.812725   \n",
       "min              -47.090411         1930.000000       1949.000000   \n",
       "25%               -2.854795         1970.000000       1967.000000   \n",
       "50%                3.545205         1978.000000       1973.000000   \n",
       "75%               10.234247         1982.000000       1977.000000   \n",
       "max               35.430137         1992.000000       1986.000000   \n",
       "\n",
       "       Applicant_RD_Month  Manager_DoJ_Year  Manager_Experience  \n",
       "count         9527.000000       9527.000000         9527.000000  \n",
       "mean             6.714601       2005.894825            1.397478  \n",
       "std              3.129828          1.777298            1.697698  \n",
       "min              1.000000       2001.000000           -0.230137  \n",
       "25%              5.000000       2005.000000            0.115068  \n",
       "50%              6.000000       2007.000000            0.693151  \n",
       "75%              9.000000       2007.000000            1.967123  \n",
       "max             12.000000       2008.000000            7.194521  "
      ]
     },
     "execution_count": 32,
     "metadata": {},
     "output_type": "execute_result"
    }
   ],
   "source": [
    "df_train[new_cols].describe()"
   ]
  },
  {
   "cell_type": "code",
   "execution_count": 33,
   "metadata": {
    "collapsed": false
   },
   "outputs": [
    {
     "data": {
      "image/png": "[encoded data removed]",
      "text/plain": [
       "<matplotlib.figure.Figure at 0x10db7a250>"
      ]
     },
     "metadata": {},
     "output_type": "display_data"
    }
   ],
   "source": [
    "fig, ax = plt.subplots(1,6,figsize=(20,4))\n",
    "for col in new_cols:\n",
    "    df_train[col][df_train.Business_Sourced == 0].hist(alpha = 0.6,ax=ax[new_cols.index(col)],xrot=90)\n",
    "    df_train[col][df_train.Business_Sourced == 1].hist(alpha = 0.6,ax=ax[new_cols.index(col)],xrot=90)\n",
    "    #ax[data_types['dates'].index(col)].plot(df_train[col],df_train.Business_Sourced,'bo',alpha = 0.5)\n",
    "    ax[new_cols.index(col)].set_title(col)\n",
    "    ax[new_cols.index(col)].legend([0,1],loc='best')\n",
    "plt.show()"
   ]
  },
  {
   "cell_type": "markdown",
   "metadata": {},
   "source": [
    "#### - Ordered categorical data"
   ]
  },
  {
   "cell_type": "code",
   "execution_count": 36,
   "metadata": {
    "collapsed": false
   },
   "outputs": [
    {
     "data": {
      "image/png": "[encoded data removed]",
      "text/plain": [
       "<matplotlib.figure.Figure at 0x10d803e90>"
      ]
     },
     "metadata": {},
     "output_type": "display_data"
    },
    {
     "data": {
      "image/png": "[encoded data removed]",
      "text/plain": [
       "<matplotlib.figure.Figure at 0x10cf06750>"
      ]
     },
     "metadata": {},
     "output_type": "display_data"
    }
   ],
   "source": [
    "#print data_types['ordered_cat']\n",
    "#fig,ax = plt.subplots(1,2,figsize = (14,4))\n",
    "for col in data_types['ordered_cat']:\n",
    "    #generate cross table first\n",
    "    ct = pd.crosstab(df_train[col],df_train['Business_Sourced'],margins=True)\n",
    "    #ct = ct/ct.iloc[-1] #normalize\n",
    "    ct.iloc[:-1,:-1].plot(kind='bar',stacked=True)"
   ]
  },
  {
   "cell_type": "markdown",
   "metadata": {},
   "source": [
    "Of interest here would also be to see how a manager has progressed in levels since he joined until the application receipt date. To make it fancy this can be  normalized over the time he has been with the firm. **Note**: To avoid infinite rate (managers with 0 years of experience with the firm), we cheat and add one day to the manager experience"
   ]
  },
  {
   "cell_type": "code",
   "execution_count": 35,
   "metadata": {
    "collapsed": false
   },
   "outputs": [
    {
     "name": "stdout",
     "output_type": "stream",
     "text": [
      "       Manager_Promotion  Manager_Promotion_Rate\n",
      "count        9527.000000             9527.000000\n",
      "mean            0.549071                0.445504\n",
      "std             0.995624                8.594634\n",
      "min            -7.000000             -182.500000\n",
      "25%             0.000000                0.000000\n",
      "50%             0.000000                0.000000\n",
      "75%             1.000000                0.424913\n",
      "max             4.000000              365.000000\n"
     ]
    }
   ],
   "source": [
    "c1 = 'Manager_Current_Designation'\n",
    "c2 = 'Manager_Joining_Designation'\n",
    "df_train['Manager_Promotion'] = label_encoders[c1].transform(df_train[c1]) - label_encoders[c2].transform(df_train[c2])\n",
    "# calculate the promotion (yearly) rate. \n",
    "df_train['Manager_Promotion_Rate'] = df_train['Manager_Promotion']/(df_train['Manager_Experience']+(1/365.0))\n",
    "print df_train[['Manager_Promotion','Manager_Promotion_Rate']].describe()"
   ]
  },
  {
   "cell_type": "code",
   "execution_count": 33,
   "metadata": {
    "collapsed": false
   },
   "outputs": [
    {
     "data": {
      "text/plain": [
       "<matplotlib.axes._subplots.AxesSubplot at 0x10cabc7d0>"
      ]
     },
     "execution_count": 33,
     "metadata": {},
     "output_type": "execute_result"
    },
    {
     "data": {
      "image/png": "[encoded data removed]",
      "text/plain": [
       "<matplotlib.figure.Figure at 0x10c614ed0>"
      ]
     },
     "metadata": {},
     "output_type": "display_data"
    }
   ],
   "source": [
    "ct.iloc[:-1,0].plot(kind='bar')"
   ]
  },
  {
   "cell_type": "markdown",
   "metadata": {},
   "source": [
    "#### - Unordered categorical data"
   ]
  },
  {
   "cell_type": "markdown",
   "metadata": {},
   "source": [
    "#### - Integer data"
   ]
  },
  {
   "cell_type": "code",
   "execution_count": null,
   "metadata": {
    "collapsed": false
   },
   "outputs": [],
   "source": [
    "data_types['integers']"
   ]
  },
  {
   "cell_type": "code",
   "execution_count": null,
   "metadata": {
    "collapsed": false
   },
   "outputs": [],
   "source": [
    "fig,ax = plt.subplots(1,5,figsize=[20,4])\n",
    "for col in data_types['integers']:\n",
    "    df_train[col][df_train.Business_Sourced == 0].hist(alpha=0.5,ax=ax[data_types['integers'].index(col)])\n",
    "    df_train[col][df_train.Business_Sourced == 1].hist(alpha=0.5,ax=ax[data_types['integers'].index(col)])\n",
    "    ax[data_types['integers'].index(col)].set_title(col)\n",
    "    ax[data_types['integers'].index(col)].legend([0,1], loc='best')\n",
    "plt.show()"
   ]
  },
  {
   "cell_type": "code",
   "execution_count": null,
   "metadata": {
    "collapsed": true
   },
   "outputs": [],
   "source": []
  }
 ],
 "metadata": {
  "kernelspec": {
   "display_name": "Python 2",
   "language": "python",
   "name": "python2"
  },
  "language_info": {
   "codemirror_mode": {
    "name": "ipython",
    "version": 2
   },
   "file_extension": ".py",
   "mimetype": "text/x-python",
   "name": "python",
   "nbconvert_exporter": "python",
   "pygments_lexer": "ipython2",
   "version": "2.7.10"
  }
 },
 "nbformat": 4,
 "nbformat_minor": 0
}
