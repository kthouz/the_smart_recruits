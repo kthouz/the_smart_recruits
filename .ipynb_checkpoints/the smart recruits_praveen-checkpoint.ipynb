{
 "cells": [
  {
   "cell_type": "code",
   "execution_count": 1,
   "metadata": {
    "collapsed": true
   },
   "outputs": [],
   "source": [
    "import os\n",
    "os.chdir(\"C:/Users/PraveenGupta/Downloads/Hackathon/SmartRecruits\")"
   ]
  },
  {
   "cell_type": "code",
   "execution_count": 98,
   "metadata": {
    "collapsed": false
   },
   "outputs": [],
   "source": [
    "import pandas as pd\n",
    "import numpy as np\n",
    "import datetime as dt\n",
    "import matplotlib.pyplot as plt\n",
    "%matplotlib inline\n",
    "from pprint import pprint\n",
    "from datetime import datetime\n",
    "\n",
    "\n",
    "from sklearn.preprocessing import LabelEncoder"
   ]
  },
  {
   "cell_type": "markdown",
   "metadata": {},
   "source": [
    "## Define functions"
   ]
  },
  {
   "cell_type": "code",
   "execution_count": 133,
   "metadata": {
    "collapsed": true
   },
   "outputs": [],
   "source": [
    "def string2date(str_date):\n",
    "#     try: #if the str_date has the format int-int-int\n",
    "        int_date = map(lambda x:int(x),str_date.split('/'))\n",
    "        return dt.date(int_date[2],int_date[0],int_date[1])\n",
    "#     except:\n",
    "#         print str_date\n",
    "#         return str_date"
   ]
  },
  {
   "cell_type": "code",
   "execution_count": 74,
   "metadata": {
    "collapsed": false
   },
   "outputs": [],
   "source": [
    "# import data\n",
    "df_train = pd.read_csv('Train_pjb2QcD.csv')\n",
    "df_test = pd.read_csv('Test_wyCirpO.csv')\n",
    "\n",
    "df_train['source']='train'\n",
    "df_test['source']='test'\n",
    "\n",
    "# Creating this 'data' dataframe so that all imputation is done at the same time.  train and test are split back from this\n",
    "data = pd.concat([df_train,df_test],ignore_index=True)\n"
   ]
  },
  {
   "cell_type": "markdown",
   "metadata": {
    "collapsed": true
   },
   "source": [
    "### Dataset description"
   ]
  },
  {
   "cell_type": "code",
   "execution_count": 75,
   "metadata": {
    "collapsed": false
   },
   "outputs": [
    {
     "name": "stdout",
     "output_type": "stream",
     "text": [
      "**size for:\n",
      "\tTrain:(9527, 24)\n",
      "\tTest:(5045, 23)\n",
      "\tOverall:(14572, 24)\n"
     ]
    }
   ],
   "source": [
    "print \"**size for:\\n\\tTrain:{0}\\n\\tTest:{1}\\n\\tOverall:{2}\".format(df_train.shape,df_test.shape,data.shape)\n"
   ]
  },
  {
   "cell_type": "code",
   "execution_count": 76,
   "metadata": {
    "collapsed": false
   },
   "outputs": [
    {
     "data": {
      "text/html": [
       "<div>\n",
       "<table border=\"1\" class=\"dataframe\">\n",
       "  <thead>\n",
       "    <tr style=\"text-align: right;\">\n",
       "      <th></th>\n",
       "      <th>0</th>\n",
       "      <th>1</th>\n",
       "      <th>2</th>\n",
       "      <th>3</th>\n",
       "      <th>4</th>\n",
       "    </tr>\n",
       "  </thead>\n",
       "  <tbody>\n",
       "    <tr>\n",
       "      <th>Applicant_BirthDate</th>\n",
       "      <td>12/19/1971</td>\n",
       "      <td>2/17/1983</td>\n",
       "      <td>1/16/1966</td>\n",
       "      <td>2/3/1988</td>\n",
       "      <td>7/4/1985</td>\n",
       "    </tr>\n",
       "    <tr>\n",
       "      <th>Applicant_City_PIN</th>\n",
       "      <td>844120</td>\n",
       "      <td>844111</td>\n",
       "      <td>844101</td>\n",
       "      <td>814112</td>\n",
       "      <td>815351</td>\n",
       "    </tr>\n",
       "    <tr>\n",
       "      <th>Applicant_Gender</th>\n",
       "      <td>M</td>\n",
       "      <td>M</td>\n",
       "      <td>M</td>\n",
       "      <td>M</td>\n",
       "      <td>M</td>\n",
       "    </tr>\n",
       "    <tr>\n",
       "      <th>Applicant_Marital_Status</th>\n",
       "      <td>M</td>\n",
       "      <td>S</td>\n",
       "      <td>M</td>\n",
       "      <td>S</td>\n",
       "      <td>M</td>\n",
       "    </tr>\n",
       "    <tr>\n",
       "      <th>Applicant_Occupation</th>\n",
       "      <td>Others</td>\n",
       "      <td>Others</td>\n",
       "      <td>Business</td>\n",
       "      <td>Salaried</td>\n",
       "      <td>Others</td>\n",
       "    </tr>\n",
       "    <tr>\n",
       "      <th>Applicant_Qualification</th>\n",
       "      <td>Graduate</td>\n",
       "      <td>Class XII</td>\n",
       "      <td>Class XII</td>\n",
       "      <td>Class XII</td>\n",
       "      <td>Class XII</td>\n",
       "    </tr>\n",
       "    <tr>\n",
       "      <th>Application_Receipt_Date</th>\n",
       "      <td>4/16/2007</td>\n",
       "      <td>4/16/2007</td>\n",
       "      <td>4/16/2007</td>\n",
       "      <td>4/16/2007</td>\n",
       "      <td>4/16/2007</td>\n",
       "    </tr>\n",
       "    <tr>\n",
       "      <th>Business_Sourced</th>\n",
       "      <td>0</td>\n",
       "      <td>1</td>\n",
       "      <td>0</td>\n",
       "      <td>0</td>\n",
       "      <td>0</td>\n",
       "    </tr>\n",
       "    <tr>\n",
       "      <th>ID</th>\n",
       "      <td>FIN1000001</td>\n",
       "      <td>FIN1000002</td>\n",
       "      <td>FIN1000003</td>\n",
       "      <td>FIN1000004</td>\n",
       "      <td>FIN1000005</td>\n",
       "    </tr>\n",
       "    <tr>\n",
       "      <th>Manager_Business</th>\n",
       "      <td>335249</td>\n",
       "      <td>335249</td>\n",
       "      <td>357184</td>\n",
       "      <td>318356</td>\n",
       "      <td>230402</td>\n",
       "    </tr>\n",
       "    <tr>\n",
       "      <th>Manager_Business2</th>\n",
       "      <td>335249</td>\n",
       "      <td>335249</td>\n",
       "      <td>357184</td>\n",
       "      <td>318356</td>\n",
       "      <td>230402</td>\n",
       "    </tr>\n",
       "    <tr>\n",
       "      <th>Manager_Current_Designation</th>\n",
       "      <td>Level 2</td>\n",
       "      <td>Level 2</td>\n",
       "      <td>Level 1</td>\n",
       "      <td>Level 3</td>\n",
       "      <td>Level 1</td>\n",
       "    </tr>\n",
       "    <tr>\n",
       "      <th>Manager_DOJ</th>\n",
       "      <td>11/10/2005</td>\n",
       "      <td>11/10/2005</td>\n",
       "      <td>5/27/2006</td>\n",
       "      <td>8/21/2003</td>\n",
       "      <td>5/8/2006</td>\n",
       "    </tr>\n",
       "    <tr>\n",
       "      <th>Manager_DoB</th>\n",
       "      <td>2/17/1978</td>\n",
       "      <td>2/17/1978</td>\n",
       "      <td>3/3/1969</td>\n",
       "      <td>8/14/1978</td>\n",
       "      <td>2/7/1971</td>\n",
       "    </tr>\n",
       "    <tr>\n",
       "      <th>Manager_Gender</th>\n",
       "      <td>M</td>\n",
       "      <td>M</td>\n",
       "      <td>M</td>\n",
       "      <td>F</td>\n",
       "      <td>M</td>\n",
       "    </tr>\n",
       "    <tr>\n",
       "      <th>Manager_Grade</th>\n",
       "      <td>3</td>\n",
       "      <td>3</td>\n",
       "      <td>2</td>\n",
       "      <td>4</td>\n",
       "      <td>2</td>\n",
       "    </tr>\n",
       "    <tr>\n",
       "      <th>Manager_Joining_Designation</th>\n",
       "      <td>Level 1</td>\n",
       "      <td>Level 1</td>\n",
       "      <td>Level 1</td>\n",
       "      <td>Level 1</td>\n",
       "      <td>Level 1</td>\n",
       "    </tr>\n",
       "    <tr>\n",
       "      <th>Manager_Num_Application</th>\n",
       "      <td>2</td>\n",
       "      <td>2</td>\n",
       "      <td>0</td>\n",
       "      <td>0</td>\n",
       "      <td>2</td>\n",
       "    </tr>\n",
       "    <tr>\n",
       "      <th>Manager_Num_Coded</th>\n",
       "      <td>1</td>\n",
       "      <td>1</td>\n",
       "      <td>0</td>\n",
       "      <td>0</td>\n",
       "      <td>1</td>\n",
       "    </tr>\n",
       "    <tr>\n",
       "      <th>Manager_Num_Products</th>\n",
       "      <td>28</td>\n",
       "      <td>28</td>\n",
       "      <td>24</td>\n",
       "      <td>22</td>\n",
       "      <td>17</td>\n",
       "    </tr>\n",
       "    <tr>\n",
       "      <th>Manager_Num_Products2</th>\n",
       "      <td>28</td>\n",
       "      <td>28</td>\n",
       "      <td>24</td>\n",
       "      <td>22</td>\n",
       "      <td>17</td>\n",
       "    </tr>\n",
       "    <tr>\n",
       "      <th>Manager_Status</th>\n",
       "      <td>Confirmation</td>\n",
       "      <td>Confirmation</td>\n",
       "      <td>Confirmation</td>\n",
       "      <td>Confirmation</td>\n",
       "      <td>Confirmation</td>\n",
       "    </tr>\n",
       "    <tr>\n",
       "      <th>Office_PIN</th>\n",
       "      <td>842001</td>\n",
       "      <td>842001</td>\n",
       "      <td>800001</td>\n",
       "      <td>814112</td>\n",
       "      <td>814112</td>\n",
       "    </tr>\n",
       "    <tr>\n",
       "      <th>source</th>\n",
       "      <td>train</td>\n",
       "      <td>train</td>\n",
       "      <td>train</td>\n",
       "      <td>train</td>\n",
       "      <td>train</td>\n",
       "    </tr>\n",
       "  </tbody>\n",
       "</table>\n",
       "</div>"
      ],
      "text/plain": [
       "                                        0             1             2  \\\n",
       "Applicant_BirthDate            12/19/1971     2/17/1983     1/16/1966   \n",
       "Applicant_City_PIN                 844120        844111        844101   \n",
       "Applicant_Gender                        M             M             M   \n",
       "Applicant_Marital_Status                M             S             M   \n",
       "Applicant_Occupation               Others        Others      Business   \n",
       "Applicant_Qualification          Graduate     Class XII     Class XII   \n",
       "Application_Receipt_Date        4/16/2007     4/16/2007     4/16/2007   \n",
       "Business_Sourced                        0             1             0   \n",
       "ID                             FIN1000001    FIN1000002    FIN1000003   \n",
       "Manager_Business                   335249        335249        357184   \n",
       "Manager_Business2                  335249        335249        357184   \n",
       "Manager_Current_Designation       Level 2       Level 2       Level 1   \n",
       "Manager_DOJ                    11/10/2005    11/10/2005     5/27/2006   \n",
       "Manager_DoB                     2/17/1978     2/17/1978      3/3/1969   \n",
       "Manager_Gender                          M             M             M   \n",
       "Manager_Grade                           3             3             2   \n",
       "Manager_Joining_Designation       Level 1       Level 1       Level 1   \n",
       "Manager_Num_Application                 2             2             0   \n",
       "Manager_Num_Coded                       1             1             0   \n",
       "Manager_Num_Products                   28            28            24   \n",
       "Manager_Num_Products2                  28            28            24   \n",
       "Manager_Status               Confirmation  Confirmation  Confirmation   \n",
       "Office_PIN                         842001        842001        800001   \n",
       "source                              train         train         train   \n",
       "\n",
       "                                        3             4  \n",
       "Applicant_BirthDate              2/3/1988      7/4/1985  \n",
       "Applicant_City_PIN                 814112        815351  \n",
       "Applicant_Gender                        M             M  \n",
       "Applicant_Marital_Status                S             M  \n",
       "Applicant_Occupation             Salaried        Others  \n",
       "Applicant_Qualification         Class XII     Class XII  \n",
       "Application_Receipt_Date        4/16/2007     4/16/2007  \n",
       "Business_Sourced                        0             0  \n",
       "ID                             FIN1000004    FIN1000005  \n",
       "Manager_Business                   318356        230402  \n",
       "Manager_Business2                  318356        230402  \n",
       "Manager_Current_Designation       Level 3       Level 1  \n",
       "Manager_DOJ                     8/21/2003      5/8/2006  \n",
       "Manager_DoB                     8/14/1978      2/7/1971  \n",
       "Manager_Gender                          F             M  \n",
       "Manager_Grade                           4             2  \n",
       "Manager_Joining_Designation       Level 1       Level 1  \n",
       "Manager_Num_Application                 0             2  \n",
       "Manager_Num_Coded                       0             1  \n",
       "Manager_Num_Products                   22            17  \n",
       "Manager_Num_Products2                  22            17  \n",
       "Manager_Status               Confirmation  Confirmation  \n",
       "Office_PIN                         814112        814112  \n",
       "source                              train         train  "
      ]
     },
     "execution_count": 76,
     "metadata": {},
     "output_type": "execute_result"
    }
   ],
   "source": [
    "# preview dataset\n",
    "data.head().T"
   ]
  },
  {
   "cell_type": "markdown",
   "metadata": {},
   "source": [
    "#### - rename some columns for an easy future exploration"
   ]
  },
  {
   "cell_type": "code",
   "execution_count": 77,
   "metadata": {
    "collapsed": false
   },
   "outputs": [],
   "source": [
    "data.rename(columns={'Applicant_BirthDate':'Applicant_DoB','Manager_DOJ':'Manager_DoJ'}, inplace=True)"
   ]
  },
  {
   "cell_type": "markdown",
   "metadata": {},
   "source": [
    "#### - Missing values and unique values\n",
    "For each column we print the number of missing values as well as the number of unique values"
   ]
  },
  {
   "cell_type": "code",
   "execution_count": 78,
   "metadata": {
    "collapsed": false
   },
   "outputs": [
    {
     "data": {
      "text/html": [
       "<div>\n",
       "<table border=\"1\" class=\"dataframe\">\n",
       "  <thead>\n",
       "    <tr style=\"text-align: right;\">\n",
       "      <th></th>\n",
       "      <th>perc_missing_val</th>\n",
       "      <th>num_uniq_val</th>\n",
       "    </tr>\n",
       "  </thead>\n",
       "  <tbody>\n",
       "    <tr>\n",
       "      <th>Applicant_DoB</th>\n",
       "      <td>0.658798</td>\n",
       "      <td>7575</td>\n",
       "    </tr>\n",
       "    <tr>\n",
       "      <th>Applicant_City_PIN</th>\n",
       "      <td>0.898984</td>\n",
       "      <td>3757</td>\n",
       "    </tr>\n",
       "    <tr>\n",
       "      <th>Applicant_Gender</th>\n",
       "      <td>0.610760</td>\n",
       "      <td>3</td>\n",
       "    </tr>\n",
       "    <tr>\n",
       "      <th>Applicant_Marital_Status</th>\n",
       "      <td>0.706835</td>\n",
       "      <td>5</td>\n",
       "    </tr>\n",
       "    <tr>\n",
       "      <th>Applicant_Occupation</th>\n",
       "      <td>15.269009</td>\n",
       "      <td>6</td>\n",
       "    </tr>\n",
       "    <tr>\n",
       "      <th>Applicant_Qualification</th>\n",
       "      <td>0.892122</td>\n",
       "      <td>13</td>\n",
       "    </tr>\n",
       "    <tr>\n",
       "      <th>Application_Receipt_Date</th>\n",
       "      <td>0.000000</td>\n",
       "      <td>500</td>\n",
       "    </tr>\n",
       "    <tr>\n",
       "      <th>Business_Sourced</th>\n",
       "      <td>34.621191</td>\n",
       "      <td>3</td>\n",
       "    </tr>\n",
       "    <tr>\n",
       "      <th>ID</th>\n",
       "      <td>0.000000</td>\n",
       "      <td>14572</td>\n",
       "    </tr>\n",
       "    <tr>\n",
       "      <th>Manager_Business</th>\n",
       "      <td>10.341751</td>\n",
       "      <td>5315</td>\n",
       "    </tr>\n",
       "    <tr>\n",
       "      <th>Manager_Business2</th>\n",
       "      <td>10.341751</td>\n",
       "      <td>5293</td>\n",
       "    </tr>\n",
       "    <tr>\n",
       "      <th>Manager_Current_Designation</th>\n",
       "      <td>10.341751</td>\n",
       "      <td>6</td>\n",
       "    </tr>\n",
       "    <tr>\n",
       "      <th>Manager_DoJ</th>\n",
       "      <td>10.341751</td>\n",
       "      <td>763</td>\n",
       "    </tr>\n",
       "    <tr>\n",
       "      <th>Manager_DoB</th>\n",
       "      <td>10.341751</td>\n",
       "      <td>1588</td>\n",
       "    </tr>\n",
       "    <tr>\n",
       "      <th>Manager_Gender</th>\n",
       "      <td>10.341751</td>\n",
       "      <td>3</td>\n",
       "    </tr>\n",
       "    <tr>\n",
       "      <th>Manager_Grade</th>\n",
       "      <td>10.341751</td>\n",
       "      <td>11</td>\n",
       "    </tr>\n",
       "    <tr>\n",
       "      <th>Manager_Joining_Designation</th>\n",
       "      <td>10.341751</td>\n",
       "      <td>9</td>\n",
       "    </tr>\n",
       "    <tr>\n",
       "      <th>Manager_Num_Application</th>\n",
       "      <td>10.341751</td>\n",
       "      <td>19</td>\n",
       "    </tr>\n",
       "    <tr>\n",
       "      <th>Manager_Num_Coded</th>\n",
       "      <td>10.341751</td>\n",
       "      <td>12</td>\n",
       "    </tr>\n",
       "    <tr>\n",
       "      <th>Manager_Num_Products</th>\n",
       "      <td>10.341751</td>\n",
       "      <td>58</td>\n",
       "    </tr>\n",
       "    <tr>\n",
       "      <th>Manager_Num_Products2</th>\n",
       "      <td>10.341751</td>\n",
       "      <td>58</td>\n",
       "    </tr>\n",
       "    <tr>\n",
       "      <th>Manager_Status</th>\n",
       "      <td>10.341751</td>\n",
       "      <td>3</td>\n",
       "    </tr>\n",
       "    <tr>\n",
       "      <th>Office_PIN</th>\n",
       "      <td>0.000000</td>\n",
       "      <td>99</td>\n",
       "    </tr>\n",
       "    <tr>\n",
       "      <th>source</th>\n",
       "      <td>0.000000</td>\n",
       "      <td>2</td>\n",
       "    </tr>\n",
       "  </tbody>\n",
       "</table>\n",
       "</div>"
      ],
      "text/plain": [
       "                             perc_missing_val  num_uniq_val\n",
       "Applicant_DoB                        0.658798          7575\n",
       "Applicant_City_PIN                   0.898984          3757\n",
       "Applicant_Gender                     0.610760             3\n",
       "Applicant_Marital_Status             0.706835             5\n",
       "Applicant_Occupation                15.269009             6\n",
       "Applicant_Qualification              0.892122            13\n",
       "Application_Receipt_Date             0.000000           500\n",
       "Business_Sourced                    34.621191             3\n",
       "ID                                   0.000000         14572\n",
       "Manager_Business                    10.341751          5315\n",
       "Manager_Business2                   10.341751          5293\n",
       "Manager_Current_Designation         10.341751             6\n",
       "Manager_DoJ                         10.341751           763\n",
       "Manager_DoB                         10.341751          1588\n",
       "Manager_Gender                      10.341751             3\n",
       "Manager_Grade                       10.341751            11\n",
       "Manager_Joining_Designation         10.341751             9\n",
       "Manager_Num_Application             10.341751            19\n",
       "Manager_Num_Coded                   10.341751            12\n",
       "Manager_Num_Products                10.341751            58\n",
       "Manager_Num_Products2               10.341751            58\n",
       "Manager_Status                      10.341751             3\n",
       "Office_PIN                           0.000000            99\n",
       "source                               0.000000             2"
      ]
     },
     "execution_count": 78,
     "metadata": {},
     "output_type": "execute_result"
    }
   ],
   "source": [
    "miss_uniq_vals = []\n",
    "for col in data.columns:\n",
    "    miss_uniq_vals.append((100*len(data[data[col].isnull()])/float(data.shape[0]),len(pd.unique(data[col]))))\n",
    "miss_uniq_vals = pd.DataFrame(miss_uniq_vals)\n",
    "miss_uniq_vals.index = data.columns.tolist()\n",
    "miss_uniq_vals.columns = ['perc_missing_val','num_uniq_val']\n",
    "miss_uniq_vals"
   ]
  },
  {
   "cell_type": "markdown",
   "metadata": {},
   "source": [
    "Let's now impute missing values in each column. I will replace missing values by the most frequent value of the corresponding column"
   ]
  },
  {
   "cell_type": "code",
   "execution_count": 79,
   "metadata": {
    "collapsed": false
   },
   "outputs": [],
   "source": [
    "imputers = {}\n",
    "for col in data.columns:\n",
    "    if miss_uniq_vals.loc[col,'perc_missing_val']>0:\n",
    "        # uncomment these lines to check the number of missing values before and after imputation\n",
    "        #print col,'\\t',df_train[df_train[col].isnull()].shape[0],'\\t',\n",
    "        most_freq = data[col].mode()[0]\n",
    "        data[col].replace(np.nan,most_freq,inplace=True)\n",
    "        imputers[col] = most_freq\n",
    "        #print df_train[df_train[col].isnull()].shape[0]"
   ]
  },
  {
   "cell_type": "markdown",
   "metadata": {},
   "source": [
    "#### - Data types"
   ]
  },
  {
   "cell_type": "code",
   "execution_count": 80,
   "metadata": {
    "collapsed": false
   },
   "outputs": [],
   "source": [
    "data_types = {\n",
    "    'dates':['Application_Receipt_Date','Applicant_DoB','Manager_DoJ','Manager_DoB'],\n",
    "    'ordered_cat':['ID','Office_PIN','Applicant_City_PIN','Applicant_Gender','Applicant_Marital_Status',\n",
    "                   'Applicant_Occupation','Applicant_Qualification','Manager_Status','Manager_Gender',\n",
    "                   'Manager_Business','Manager_Business2','Business_Sourced'],\n",
    "    'unordered_cat':['Manager_Joining_Designation','Manager_Current_Designation'],\n",
    "    'integers':['Manager_Grade','Manager_Num_Application','Manager_Num_Coded','Manager_Num_Products',\n",
    "                'Manager_Num_Products2'],\n",
    "    'dummies':['Office_PIN','Applicant_City_PIN','Applicant_Gender','Applicant_Marital_Status',\n",
    "                   'Applicant_Occupation','Applicant_Qualification','Manager_Status','Manager_Gender',\n",
    "                   'Manager_Joining_Designation','Manager_Current_Designation']\n",
    "}"
   ]
  },
  {
   "cell_type": "markdown",
   "metadata": {},
   "source": [
    "Now, we convert each column to its proper data type and prepare a label encoder to transform categorical into numeric"
   ]
  },
  {
   "cell_type": "code",
   "execution_count": 72,
   "metadata": {
    "collapsed": false
   },
   "outputs": [],
   "source": [
    "label_encoders = {}\n",
    "for col in data.columns[:-1]: # dont convert target column yet\n",
    "    if col in data_types['dates']:\n",
    "        data[col] = data[col].apply(lambda x:string2date(x))\n",
    "    if col in data_types['ordered_cat']:\n",
    "        data[col] = pd.Categorical(data[col],ordered=True)\n",
    "        label_encoders = LabelEncoder()\n",
    "        data[col]=label_encoders.fit_transform(data[col])\n",
    "    if col in data_types['unordered_cat']:\n",
    "        data[col] = pd.Categorical(data[col],ordered=False)\n",
    "        label_encoders = LabelEncoder()\n",
    "        data[col]=label_encoders.fit_transform(data[col])\n",
    "    if col in data_types['integers']:\n",
    "        data[col] = data[col].astype(int)\n",
    "   "
   ]
  },
  {
   "cell_type": "code",
   "execution_count": 81,
   "metadata": {
    "collapsed": false
   },
   "outputs": [],
   "source": [
    "# Create Dummies for all the categorical columns \n",
    "data = pd.get_dummies(data, columns = data_types['dummies'])\n",
    "# print data_types['dummies']"
   ]
  },
  {
   "cell_type": "markdown",
   "metadata": {},
   "source": [
    "### Univariate Data Exploration and Engineering\n",
    "\n",
    "#### - Target label"
   ]
  },
  {
   "cell_type": "code",
   "execution_count": 235,
   "metadata": {
    "collapsed": false
   },
   "outputs": [
    {
     "name": "stdout",
     "output_type": "stream",
     "text": [
      "The probability of picking a positive Business Sourced is 0.342920121759\n"
     ]
    }
   ],
   "source": [
    "print \"The probability of picking a positive Business Sourced is\",df_train[df_train.Business_Sourced == 1].shape[0]/float(df_train.shape[0])"
   ]
  },
  {
   "cell_type": "markdown",
   "metadata": {},
   "source": [
    "#### - Date type"
   ]
  },
  {
   "cell_type": "code",
   "execution_count": 192,
   "metadata": {
    "collapsed": false
   },
   "outputs": [
    {
     "data": {
      "image/png": "[encoded data removed]",
      "text/plain": [
       "<matplotlib.figure.Figure at 0x10966d1d0>"
      ]
     },
     "metadata": {},
     "output_type": "display_data"
    },
    {
     "data": {
      "image/png": "[encoded data removed]",
      "text/plain": [
       "<matplotlib.figure.Figure at 0x10695b390>"
      ]
     },
     "metadata": {},
     "output_type": "display_data"
    }
   ],
   "source": [
    "# We plot earlier (date of births) and later dates separately\n",
    "fig, (ax1,ax2) = plt.subplots(1,2,figsize=(15,4))\n",
    "legends1 = []\n",
    "legends2 = []\n",
    "for col in data_types['dates']:\n",
    "    if 'DoB' in col:\n",
    "        df_train[col].hist(alpha=0.6,ax=ax1)\n",
    "        legends1.append(col)\n",
    "    else:\n",
    "        df_train[col].hist(alpha=0.6,ax=ax2)\n",
    "        legends2.append(col)\n",
    "ax1.legend(legends1,loc='best')\n",
    "ax2.legend(legends2,loc='best')\n",
    "plt.show()\n",
    "\n",
    "# plot, the target label as function of each date column\n",
    "fig, ax = plt.subplots(1,4,figsize=(20,4))\n",
    "for col in data_types['dates']:\n",
    "    df_train[col][df_train.Business_Sourced == 0].hist(alpha = 0.6,ax=ax[data_types['dates'].index(col)],xrot=90)\n",
    "    df_train[col][df_train.Business_Sourced == 1].hist(alpha = 0.6,ax=ax[data_types['dates'].index(col)],xrot=90)\n",
    "    #ax[data_types['dates'].index(col)].plot(df_train[col],df_train.Business_Sourced,'bo',alpha = 0.5)\n",
    "    ax[data_types['dates'].index(col)].set_title(col)\n",
    "    ax[data_types['dates'].index(col)].legend([0,1],loc='best')\n",
    "plt.show()\n",
    "\n"
   ]
  },
  {
   "cell_type": "markdown",
   "metadata": {},
   "source": [
    "- Approximately applicants are about 10 years younger managers (top-left figure)\n",
    "- There was a hug increase in hiring managers starting with mid 2006, followed by hiring new applicants as well in 2007. However it looks like the number of applicants started to decrease in beginning 2008\n",
    "\n",
    "It would also be interesting to look at:\n",
    "- Difference in age between manager and applicant\n",
    "- Look at Business Sourced as function of just years or months (but not dates)\n",
    "- Manager's experience time with the firm. This is the time between Manager Date of Joining and Applicant's receipt date\n",
    "\n",
    "So, let's create new data columns first"
   ]
  },
  {
   "cell_type": "code",
   "execution_count": 232,
   "metadata": {
    "collapsed": false
   },
   "outputs": [],
   "source": [
    "df_train['Applicant_Manager_DA'] = map(lambda x:float(x.days),df_train.Applicant_DoB - df_train.Manager_DoB)\n",
    "df_train['Applicant_DoB_Year'] = df_train.Applicant_DoB.apply(lambda x:x.year)\n",
    "df_train['Manager_DoB_Year'] = df_train.Manager_DoB.apply(lambda x:x.year)\n",
    "df_train['Applicant_RD_Month'] = df_train.Application_Receipt_Date.apply(lambda x:x.month)\n",
    "df_train['Manager_DoJ_Year'] = df_train.Manager_DoJ.apply(lambda x:x.year)\n",
    "df_train['Manager_Experience'] = map(lambda x:x.days,df_train.Application_Receipt_Date - df_train.Manager_DoJ)"
   ]
  },
  {
   "cell_type": "code",
   "execution_count": 233,
   "metadata": {
    "collapsed": false
   },
   "outputs": [
    {
     "data": {
      "image/png": "[encoded data removed]",
      "text/plain": [
       "<matplotlib.figure.Figure at 0x10caaab50>"
      ]
     },
     "metadata": {},
     "output_type": "display_data"
    }
   ],
   "source": [
    "fig, ax = plt.subplots(1,6,figsize=(20,4))\n",
    "new_cols = ['Applicant_Manager_DA','Applicant_DoB_Year','Manager_DoB_Year','Applicant_RD_Month','Manager_DoJ_Year','Manager_Experience']\n",
    "for col in new_cols:\n",
    "    df_train[col][df_train.Business_Sourced == 0].hist(alpha = 0.6,ax=ax[new_cols.index(col)],xrot=90)\n",
    "    df_train[col][df_train.Business_Sourced == 1].hist(alpha = 0.6,ax=ax[new_cols.index(col)],xrot=90)\n",
    "    #ax[data_types['dates'].index(col)].plot(df_train[col],df_train.Business_Sourced,'bo',alpha = 0.5)\n",
    "    ax[new_cols.index(col)].set_title(col)\n",
    "    ax[new_cols.index(col)].legend([0,1],loc='best')\n",
    "plt.show()"
   ]
  },
  {
   "cell_type": "markdown",
   "metadata": {},
   "source": [
    "#### - Ordered categorical data"
   ]
  },
  {
   "cell_type": "markdown",
   "metadata": {},
   "source": [
    "#### - Unordered categorical data"
   ]
  },
  {
   "cell_type": "markdown",
   "metadata": {},
   "source": [
    "#### - Integer data"
   ]
  },
  {
   "cell_type": "code",
   "execution_count": 236,
   "metadata": {
    "collapsed": false
   },
   "outputs": [
    {
     "data": {
      "text/plain": [
       "['Manager_Grade',\n",
       " 'Manager_Num_Application',\n",
       " 'Manager_Num_Coded',\n",
       " 'Manager_Num_Products',\n",
       " 'Manager_Num_Products2']"
      ]
     },
     "execution_count": 236,
     "metadata": {},
     "output_type": "execute_result"
    }
   ],
   "source": [
    "data_types['integers']"
   ]
  },
  {
   "cell_type": "code",
   "execution_count": 239,
   "metadata": {
    "collapsed": false
   },
   "outputs": [
    {
     "data": {
      "image/png": "[encoded data removed]",
      "text/plain": [
       "<matplotlib.figure.Figure at 0x1093e8210>"
      ]
     },
     "metadata": {},
     "output_type": "display_data"
    }
   ],
   "source": [
    "fig,ax = plt.subplots(1,5,figsize=[20,4])\n",
    "for col in data_types['integers']:\n",
    "    df_train[col][df_train.Business_Sourced == 0].hist(alpha=0.5,ax=ax[data_types['integers'].index(col)])\n",
    "    df_train[col][df_train.Business_Sourced == 1].hist(alpha=0.5,ax=ax[data_types['integers'].index(col)])\n",
    "    ax[data_types['integers'].index(col)].set_title(col)\n",
    "plt.legend([0,1], loc='best')\n",
    "plt.show()"
   ]
  },
  {
   "cell_type": "markdown",
   "metadata": {
    "collapsed": true
   },
   "source": [
    "## Modelling"
   ]
  },
  {
   "cell_type": "code",
   "execution_count": 181,
   "metadata": {
    "collapsed": false
   },
   "outputs": [],
   "source": [
    "# ['Applicant_DoB','Application_Receipt_Date','Manager_DoJ','Manager_DoB']\n",
    "\n",
    "dob = data['Applicant_DoB'].apply(lambda x:string2date(x))\n",
    "dob=dob.apply(lambda x: x.year)\n",
    "data['ApplicantAge']=(2009 - dob)\n",
    "\n",
    "dob = data['Application_Receipt_Date'].apply(lambda x:string2date(x))\n",
    "dob=dob.apply(lambda x: x.year)\n",
    "data['ApplicantionReceiptAge']=(2009 - dob)\n",
    "\n",
    "dob = data['Manager_DoJ'].apply(lambda x:string2date(x))\n",
    "dob=dob.apply(lambda x: x.year)\n",
    "data['ManagerExp']=(2009 - dob)         #should be decomposed into number of months\n",
    "\n",
    "dob = data['Manager_DoB'].apply(lambda x:string2date(x))\n",
    "dob=dob.apply(lambda x: x.year)\n",
    "data['ManagerAge']=(2009 - dob)\n",
    "\n",
    "\n",
    "# df_train\n",
    "# df_train[target].dtypes"
   ]
  },
  {
   "cell_type": "code",
   "execution_count": 187,
   "metadata": {
    "collapsed": false
   },
   "outputs": [
    {
     "name": "stderr",
     "output_type": "stream",
     "text": [
      "c:\\Anaconda2\\lib\\site-packages\\ipykernel\\__main__.py:6: SettingWithCopyWarning: \n",
      "A value is trying to be set on a copy of a slice from a DataFrame\n",
      "\n",
      "See the caveats in the documentation: http://pandas.pydata.org/pandas-docs/stable/indexing.html#indexing-view-versus-copy\n",
      "c:\\Anaconda2\\lib\\site-packages\\ipykernel\\__main__.py:7: SettingWithCopyWarning: \n",
      "A value is trying to be set on a copy of a slice from a DataFrame\n",
      "\n",
      "See the caveats in the documentation: http://pandas.pydata.org/pandas-docs/stable/indexing.html#indexing-view-versus-copy\n"
     ]
    }
   ],
   "source": [
    "# splitting back the data into train and test\n",
    "df_train=data.loc[data['source']=='train']\n",
    "df_test=data.loc[data['source']=='test']\n",
    "df_train.head\n",
    "#Drop unnecessary columns\n",
    "df_test.drop(['source'],axis=1,inplace=True)\n",
    "df_train.drop(['source'],axis=1,inplace=True)"
   ]
  },
  {
   "cell_type": "code",
   "execution_count": 189,
   "metadata": {
    "collapsed": true
   },
   "outputs": [],
   "source": [
    "#Export files as modified versions\n",
    "df_train.to_csv(\"/Users/PraveenGupta/Downloads/Hackathon/SmartRecruits/train_modified.csv\",index=False)\n",
    "df_test.to_csv(\"/Users/PraveenGupta/Downloads/Hackathon/SmartRecruits/test_modified.csv\",index=False)"
   ]
  },
  {
   "cell_type": "code",
   "execution_count": 190,
   "metadata": {
    "collapsed": true
   },
   "outputs": [],
   "source": [
    "#function to create submission file\n",
    "#define target and ID Columns for submission\n",
    "target = 'Business_Sourced'\n",
    "IDCol = ['ID']\n",
    "\n",
    "from sklearn import cross_validation, metrics\n",
    "\n",
    "def modelfit(alg,dtrain,dtest,predictors,target,IDCol,filename):\n",
    "    #fit the algorithm on the data\n",
    "    alg.fit(dtrain[predictors],dtrain[target])\n",
    "    \n",
    "    #predict training data set\n",
    "    dtrain_predictions = alg.predict(dtrain[predictors])\n",
    "    \n",
    "    #performs cross validation\n",
    "    cv_score = cross_validation.cross_val_score(alg,dtrain[predictors],dtrain[target],cv=20,scoring='roc_auc')\n",
    "    \n",
    "    #Print model report\n",
    "    print \"\\nModel Report :\"\n",
    "    print \"AUC : %.4g\" % (metrics.roc_auc_score(dtrain[target].values,dtrain_predictions))\n",
    "    print \"CV Score : Mean - %.4g | Std - %.4g | Min - %.4g | Max - %.4g\"%(np.mean(cv_score),np.std(cv_score),np.min(cv_score),np.max(cv_score))\n",
    "    \n",
    "    #Predict on testing data\n",
    "    dtest[target]=alg.predict(dtest[predictors])\n",
    "    \n",
    "    #Export submission file\n",
    "    IDCol.append(target)\n",
    "    submission = pd.DataFrame({x : dtest[x] for x in IDCol})\n",
    "    submission.to_csv(filename,index=False)"
   ]
  },
  {
   "cell_type": "code",
   "execution_count": 191,
   "metadata": {
    "collapsed": false
   },
   "outputs": [
    {
     "name": "stdout",
     "output_type": "stream",
     "text": [
      "\n",
      "Model Report :\n",
      "AUC : 0.5\n",
      "CV Score : Mean - 0.479 | Std - 0.03608 | Min - 0.371 | Max - 0.5315\n"
     ]
    },
    {
     "name": "stderr",
     "output_type": "stream",
     "text": [
      "c:\\Anaconda2\\lib\\site-packages\\ipykernel\\__main__.py:24: SettingWithCopyWarning: \n",
      "A value is trying to be set on a copy of a slice from a DataFrame.\n",
      "Try using .loc[row_indexer,col_indexer] = value instead\n",
      "\n",
      "See the caveats in the documentation: http://pandas.pydata.org/pandas-docs/stable/indexing.html#indexing-view-versus-copy\n"
     ]
    }
   ],
   "source": [
    "# LB = 0.499\n",
    "extra = ['Applicant_DoB','Application_Receipt_Date','Manager_DoJ','Manager_DoB']\n",
    "from sklearn.linear_model import LogisticRegression\n",
    "predictors = [x for x in df_train.columns if x not in [target]+IDCol+extra]\n",
    "alg2=LogisticRegression()\n",
    "modelfit(alg2,df_train,df_test,predictors,target,IDCol,'submission_Linear.csv')"
   ]
  },
  {
   "cell_type": "code",
   "execution_count": 192,
   "metadata": {
    "collapsed": false,
    "scrolled": true
   },
   "outputs": [
    {
     "name": "stdout",
     "output_type": "stream",
     "text": [
      "\n",
      "Model Report :\n",
      "AUC : 0.9992\n",
      "CV Score : Mean - 0.5134 | Std - 0.03247 | Min - 0.4422 | Max - 0.5686\n"
     ]
    },
    {
     "name": "stderr",
     "output_type": "stream",
     "text": [
      "c:\\Anaconda2\\lib\\site-packages\\ipykernel\\__main__.py:24: SettingWithCopyWarning: \n",
      "A value is trying to be set on a copy of a slice from a DataFrame.\n",
      "Try using .loc[row_indexer,col_indexer] = value instead\n",
      "\n",
      "See the caveats in the documentation: http://pandas.pydata.org/pandas-docs/stable/indexing.html#indexing-view-versus-copy\n"
     ]
    }
   ],
   "source": [
    "# extra = ['Applicant_DoB','Application_Receipt_Date','Manager_DoJ','Manager_DoB']\n",
    "# LB = 0.52 (Base)\n",
    "from sklearn.tree import DecisionTreeClassifier\n",
    "predictors = [x for x in df_train.columns if x not in [target]+IDCol+extra]\n",
    "alg2=DecisionTreeClassifier()#max_depth=11,min_samples_split=20, min_samples_leaf=10,max_features='sqrt',random_state=111)\n",
    "modelfit(alg2,df_train,df_test,predictors,target,IDCol,'submission_DT.csv')"
   ]
  },
  {
   "cell_type": "code",
   "execution_count": 95,
   "metadata": {
    "collapsed": true
   },
   "outputs": [],
   "source": [
    "import xgboost as xgb\n",
    "from xgboost.sklearn import XGBClassifier\n",
    "\n",
    "#Function for XGBoost\n",
    "from xgboost.sklearn import XGBClassifier\n",
    "def xGBmodelfit(alg,dtrain,dtest,predictors,filename,useTrainCV=True, cv_folds=5,early_stopping_rounds=200):\n",
    "    print datetime.now().time()\n",
    "    if useTrainCV:\n",
    "        xgb_param=alg.get_xgb_params()\n",
    "        xgtrain = xgb.DMatrix(dtrain[predictors].values,label = dtrain[target].values)\n",
    "        cvresult = xgb.cv(xgb_param,xgtrain,num_boost_round=alg.get_params()['n_estimators'],\n",
    "            nfold=cv_folds,metrics='auc',early_stopping_rounds=early_stopping_rounds)#,show_progress=False)\n",
    "        alg.set_params(n_estimators=cvresult.shape[0])#,booster='gbtree')\n",
    "    \n",
    "    bestNoOfRounds = cvresult['test-auc-mean'].argmax()\n",
    "    bestAnsForThisSetting =  cvresult.ix[bestNoOfRounds]\n",
    "    bestModelEval = bestAnsForThisSetting[0]\n",
    "    print \"Best Num of Rounds %.7g\" %bestNoOfRounds\n",
    "#     print \"Best Ans %.7g\" %bestAnsForThisSetting\n",
    "    print \"Best Model Eval (Test-AUC) %.7g\" %bestModelEval\n",
    "    \n",
    "    alg.fit(dtrain[predictors],dtrain[target],eval_metric='auc')#,eta=0.0001)\n",
    "    \n",
    "#   Predicting training data\n",
    "    dtrain_predictions = alg.predict(dtrain[predictors])\n",
    "    dtrain_predprob=alg.predict_proba(dtrain[predictors])[:,1]       \n",
    "    \n",
    "    print \"\\nModel Report\"\n",
    "    print \"Accuracy : %.4g\" %metrics.accuracy_score(dtrain[target],dtrain_predictions)\n",
    "    print \"AUC Score (train) : %f\" %metrics.roc_auc_score(dtrain[target],dtrain_predprob)\n",
    "    \n",
    "#   Feature important plot\n",
    "    feat_imp = pd.Series(alg.booster().get_fscore()).sort_values(ascending=False)\n",
    "    feat_imp.plot(kind='bar',title = 'Feature Importance')\n",
    "    plt.ylabel('Feature Importance score')\n",
    "    \n",
    "    #Predict on testing data\n",
    "    dtest[target]=alg.predict_proba(dtest[predictors])[:,1]\n",
    "    \n",
    "    #Export submission file\n",
    "    IDCol.append(target)\n",
    "    submission = pd.DataFrame({x : dtest[x] for x in IDCol})\n",
    "    submission.to_csv(filename,index=False)\n",
    "    \n",
    "    print datetime.now().time()"
   ]
  },
  {
   "cell_type": "code",
   "execution_count": null,
   "metadata": {
    "collapsed": false
   },
   "outputs": [],
   "source": [
    "extra = ['Applicant_DoB','Application_Receipt_Date','Manager_DoJ','Manager_DoB']\n",
    "\n",
    "predictors = [x for x in df_train.columns if x not in [target]+IDCol+extra]\n",
    "\n",
    "xgb1 = XGBClassifier(\n",
    "objective = 'binary:logistic',\n",
    "learning_rate=0.025,\n",
    "n_estimators = 400,\n",
    "max_depth=7,\n",
    "min_child_weight=5,\n",
    "subsample=0.8,\n",
    "colsample_bytree=0.5,\n",
    "nthread=-1,\n",
    "seed=27)\n",
    "\n",
    "xGBmodelfit(xgb1,df_train,df_test,predictors,'xgBoost.csv')"
   ]
  },
  {
   "cell_type": "code",
   "execution_count": 193,
   "metadata": {
    "collapsed": false
   },
   "outputs": [
    {
     "name": "stdout",
     "output_type": "stream",
     "text": [
      "\n",
      "Model Report :\n",
      "AUC : 0.5161\n",
      "CV Score : Mean - 0.5178 | Std - 0.03373 | Min - 0.4481 | Max - 0.5609\n"
     ]
    },
    {
     "name": "stderr",
     "output_type": "stream",
     "text": [
      "c:\\Anaconda2\\lib\\site-packages\\ipykernel\\__main__.py:24: SettingWithCopyWarning: \n",
      "A value is trying to be set on a copy of a slice from a DataFrame.\n",
      "Try using .loc[row_indexer,col_indexer] = value instead\n",
      "\n",
      "See the caveats in the documentation: http://pandas.pydata.org/pandas-docs/stable/indexing.html#indexing-view-versus-copy\n"
     ]
    }
   ],
   "source": [
    "# LB = 0.50669 (Base)\n",
    "from sklearn.tree import ExtraTreeClassifier\n",
    "predictors = [x for x in df_train.columns if x not in [target]+IDCol+extra]\n",
    "alg2=ExtraTreeClassifier(max_depth=15,min_samples_split=10, min_samples_leaf=5,max_features='sqrt',random_state=111)\n",
    "modelfit(alg2,df_train,df_test,predictors,target,IDCol,'submission_ET.csv')"
   ]
  },
  {
   "cell_type": "code",
   "execution_count": 104,
   "metadata": {
    "collapsed": false
   },
   "outputs": [
    {
     "name": "stdout",
     "output_type": "stream",
     "text": [
      "\n",
      "Model Report :\n",
      "AUC : 0.9513\n",
      "CV Score : Mean - 0.5295 | Std - 0.0435 | Min - 0.4616 | Max - 0.6158\n"
     ]
    },
    {
     "name": "stderr",
     "output_type": "stream",
     "text": [
      "c:\\Anaconda2\\lib\\site-packages\\ipykernel\\__main__.py:24: SettingWithCopyWarning: \n",
      "A value is trying to be set on a copy of a slice from a DataFrame.\n",
      "Try using .loc[row_indexer,col_indexer] = value instead\n",
      "\n",
      "See the caveats in the documentation: http://pandas.pydata.org/pandas-docs/stable/indexing.html#indexing-view-versus-copy\n"
     ]
    }
   ],
   "source": [
    "# LB = 0.5199 (Base)\n",
    "from sklearn.ensemble import RandomForestClassifier\n",
    "predictors = [x for x in df_train.columns if x not in [target]+IDCol+extra]\n",
    "alg2=RandomForestClassifier()\n",
    "modelfit(alg2,df_train,df_test,predictors,target,IDCol,'submission_RF.csv')"
   ]
  }
 ],
 "metadata": {
  "kernelspec": {
   "display_name": "Python 2",
   "language": "python",
   "name": "python2"
  },
  "language_info": {
   "codemirror_mode": {
    "name": "ipython",
    "version": 2
   },
   "file_extension": ".py",
   "mimetype": "text/x-python",
   "name": "python",
   "nbconvert_exporter": "python",
   "pygments_lexer": "ipython2",
   "version": "2.7.10"
  }
 },
 "nbformat": 4,
 "nbformat_minor": 0
}
