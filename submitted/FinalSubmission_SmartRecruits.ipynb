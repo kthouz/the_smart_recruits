{
 "cells": [
  {
   "cell_type": "code",
   "execution_count": 1,
   "metadata": {
    "collapsed": true
   },
   "outputs": [],
   "source": [
    "import os\n",
    "os.chdir(\"C:/Users/PraveenGupta/Downloads/Hackathon/SmartRecruits\")"
   ]
  },
  {
   "cell_type": "code",
   "execution_count": 2,
   "metadata": {
    "collapsed": true
   },
   "outputs": [],
   "source": [
    "def string2date(str_date):\n",
    "    try: #if the str_date has the format int-int-int\n",
    "        int_date = map(lambda x:int(x),str_date.split('/'))\n",
    "        return dt.date(int_date[2],int_date[0],int_date[1])\n",
    "    except:\n",
    "        print str_date\n",
    "        return str_date"
   ]
  },
  {
   "cell_type": "code",
   "execution_count": 3,
   "metadata": {
    "collapsed": true
   },
   "outputs": [],
   "source": [
    "import pandas as pd\n",
    "import numpy as np\n",
    "import datetime as dt\n",
    "import matplotlib.pyplot as plt\n",
    "%matplotlib inline\n",
    "from pprint import pprint\n",
    "from datetime import datetime\n",
    "\n",
    "\n",
    "from sklearn.preprocessing import LabelEncoder"
   ]
  },
  {
   "cell_type": "code",
   "execution_count": 4,
   "metadata": {
    "collapsed": true
   },
   "outputs": [],
   "source": [
    "# import data\n",
    "df_train = pd.read_csv('Train_pjb2QcD.csv')\n",
    "df_test = pd.read_csv('Test_wyCirpO.csv')\n",
    "\n",
    "df_train['source']='train'\n",
    "df_test['source']='test'\n",
    "\n",
    "# Creating this 'data' dataframe so that all imputation is done at the same time.  train and test are split back from this\n",
    "data = pd.concat([df_train,df_test],ignore_index=True)\n"
   ]
  },
  {
   "cell_type": "code",
   "execution_count": 5,
   "metadata": {
    "collapsed": false
   },
   "outputs": [
    {
     "name": "stdout",
     "output_type": "stream",
     "text": [
      "**size for:\n",
      "\tTrain:(9527, 24)\n",
      "\tTest:(5045, 23)\n",
      "\tOverall:(14572, 24)\n"
     ]
    }
   ],
   "source": [
    "# Prints the shape of all datasets\n",
    "print \"**size for:\\n\\tTrain:{0}\\n\\tTest:{1}\\n\\tOverall:{2}\".format(df_train.shape,df_test.shape,data.shape)"
   ]
  },
  {
   "cell_type": "code",
   "execution_count": 6,
   "metadata": {
    "collapsed": true
   },
   "outputs": [],
   "source": [
    "# Renaming the columns for easy future usage\n",
    "data.rename(columns={'Applicant_BirthDate':'Applicant_DoB','Manager_DOJ':'Manager_DoJ'}, inplace=True)"
   ]
  },
  {
   "cell_type": "code",
   "execution_count": 7,
   "metadata": {
    "collapsed": false
   },
   "outputs": [
    {
     "data": {
      "text/html": [
       "<div>\n",
       "<table border=\"1\" class=\"dataframe\">\n",
       "  <thead>\n",
       "    <tr style=\"text-align: right;\">\n",
       "      <th></th>\n",
       "      <th>perc_missing_val</th>\n",
       "      <th>num_uniq_val</th>\n",
       "    </tr>\n",
       "  </thead>\n",
       "  <tbody>\n",
       "    <tr>\n",
       "      <th>Applicant_DoB</th>\n",
       "      <td>0.658798</td>\n",
       "      <td>7575</td>\n",
       "    </tr>\n",
       "    <tr>\n",
       "      <th>Applicant_City_PIN</th>\n",
       "      <td>0.898984</td>\n",
       "      <td>3757</td>\n",
       "    </tr>\n",
       "    <tr>\n",
       "      <th>Applicant_Gender</th>\n",
       "      <td>0.610760</td>\n",
       "      <td>3</td>\n",
       "    </tr>\n",
       "    <tr>\n",
       "      <th>Applicant_Marital_Status</th>\n",
       "      <td>0.706835</td>\n",
       "      <td>5</td>\n",
       "    </tr>\n",
       "    <tr>\n",
       "      <th>Applicant_Occupation</th>\n",
       "      <td>15.269009</td>\n",
       "      <td>6</td>\n",
       "    </tr>\n",
       "    <tr>\n",
       "      <th>Applicant_Qualification</th>\n",
       "      <td>0.892122</td>\n",
       "      <td>13</td>\n",
       "    </tr>\n",
       "    <tr>\n",
       "      <th>Application_Receipt_Date</th>\n",
       "      <td>0.000000</td>\n",
       "      <td>500</td>\n",
       "    </tr>\n",
       "    <tr>\n",
       "      <th>Business_Sourced</th>\n",
       "      <td>34.621191</td>\n",
       "      <td>3</td>\n",
       "    </tr>\n",
       "    <tr>\n",
       "      <th>ID</th>\n",
       "      <td>0.000000</td>\n",
       "      <td>14572</td>\n",
       "    </tr>\n",
       "    <tr>\n",
       "      <th>Manager_Business</th>\n",
       "      <td>10.341751</td>\n",
       "      <td>5315</td>\n",
       "    </tr>\n",
       "    <tr>\n",
       "      <th>Manager_Business2</th>\n",
       "      <td>10.341751</td>\n",
       "      <td>5293</td>\n",
       "    </tr>\n",
       "    <tr>\n",
       "      <th>Manager_Current_Designation</th>\n",
       "      <td>10.341751</td>\n",
       "      <td>6</td>\n",
       "    </tr>\n",
       "    <tr>\n",
       "      <th>Manager_DoJ</th>\n",
       "      <td>10.341751</td>\n",
       "      <td>763</td>\n",
       "    </tr>\n",
       "    <tr>\n",
       "      <th>Manager_DoB</th>\n",
       "      <td>10.341751</td>\n",
       "      <td>1588</td>\n",
       "    </tr>\n",
       "    <tr>\n",
       "      <th>Manager_Gender</th>\n",
       "      <td>10.341751</td>\n",
       "      <td>3</td>\n",
       "    </tr>\n",
       "    <tr>\n",
       "      <th>Manager_Grade</th>\n",
       "      <td>10.341751</td>\n",
       "      <td>11</td>\n",
       "    </tr>\n",
       "    <tr>\n",
       "      <th>Manager_Joining_Designation</th>\n",
       "      <td>10.341751</td>\n",
       "      <td>9</td>\n",
       "    </tr>\n",
       "    <tr>\n",
       "      <th>Manager_Num_Application</th>\n",
       "      <td>10.341751</td>\n",
       "      <td>19</td>\n",
       "    </tr>\n",
       "    <tr>\n",
       "      <th>Manager_Num_Coded</th>\n",
       "      <td>10.341751</td>\n",
       "      <td>12</td>\n",
       "    </tr>\n",
       "    <tr>\n",
       "      <th>Manager_Num_Products</th>\n",
       "      <td>10.341751</td>\n",
       "      <td>58</td>\n",
       "    </tr>\n",
       "    <tr>\n",
       "      <th>Manager_Num_Products2</th>\n",
       "      <td>10.341751</td>\n",
       "      <td>58</td>\n",
       "    </tr>\n",
       "    <tr>\n",
       "      <th>Manager_Status</th>\n",
       "      <td>10.341751</td>\n",
       "      <td>3</td>\n",
       "    </tr>\n",
       "    <tr>\n",
       "      <th>Office_PIN</th>\n",
       "      <td>0.000000</td>\n",
       "      <td>99</td>\n",
       "    </tr>\n",
       "    <tr>\n",
       "      <th>source</th>\n",
       "      <td>0.000000</td>\n",
       "      <td>2</td>\n",
       "    </tr>\n",
       "  </tbody>\n",
       "</table>\n",
       "</div>"
      ],
      "text/plain": [
       "                             perc_missing_val  num_uniq_val\n",
       "Applicant_DoB                        0.658798          7575\n",
       "Applicant_City_PIN                   0.898984          3757\n",
       "Applicant_Gender                     0.610760             3\n",
       "Applicant_Marital_Status             0.706835             5\n",
       "Applicant_Occupation                15.269009             6\n",
       "Applicant_Qualification              0.892122            13\n",
       "Application_Receipt_Date             0.000000           500\n",
       "Business_Sourced                    34.621191             3\n",
       "ID                                   0.000000         14572\n",
       "Manager_Business                    10.341751          5315\n",
       "Manager_Business2                   10.341751          5293\n",
       "Manager_Current_Designation         10.341751             6\n",
       "Manager_DoJ                         10.341751           763\n",
       "Manager_DoB                         10.341751          1588\n",
       "Manager_Gender                      10.341751             3\n",
       "Manager_Grade                       10.341751            11\n",
       "Manager_Joining_Designation         10.341751             9\n",
       "Manager_Num_Application             10.341751            19\n",
       "Manager_Num_Coded                   10.341751            12\n",
       "Manager_Num_Products                10.341751            58\n",
       "Manager_Num_Products2               10.341751            58\n",
       "Manager_Status                      10.341751             3\n",
       "Office_PIN                           0.000000            99\n",
       "source                               0.000000             2"
      ]
     },
     "execution_count": 7,
     "metadata": {},
     "output_type": "execute_result"
    }
   ],
   "source": [
    "# Finding the number of missing values and unique values\n",
    "miss_uniq_vals = []\n",
    "for col in data.columns:\n",
    "    miss_uniq_vals.append((100*len(data[data[col].isnull()])/float(data.shape[0]),len(pd.unique(data[col]))))\n",
    "miss_uniq_vals = pd.DataFrame(miss_uniq_vals)\n",
    "miss_uniq_vals.index = data.columns.tolist()\n",
    "miss_uniq_vals.columns = ['perc_missing_val','num_uniq_val']\n",
    "miss_uniq_vals"
   ]
  },
  {
   "cell_type": "code",
   "execution_count": 8,
   "metadata": {
    "collapsed": true
   },
   "outputs": [],
   "source": [
    "# Impute the missing values with the mode\n",
    "imputers = {}\n",
    "for col in data.columns:\n",
    "    if miss_uniq_vals.loc[col,'perc_missing_val']>0:\n",
    "        # uncomment these lines to check the number of missing values before and after imputation\n",
    "        #print col,'\\t',df_train[df_train[col].isnull()].shape[0],'\\t',\n",
    "        most_freq = data[col].mode()[0]\n",
    "        data[col].replace(np.nan,most_freq,inplace=True)\n",
    "        imputers[col] = most_freq\n",
    "        #print df_train[df_train[col].isnull()].shape[0]"
   ]
  },
  {
   "cell_type": "code",
   "execution_count": 9,
   "metadata": {
    "collapsed": false
   },
   "outputs": [],
   "source": [
    "# Calculate the ages of applicants, managers, manager experience and application receipt age\n",
    "# doing this as the age cannot be processed by M/L algorithms..\n",
    "\n",
    "dob = data['Applicant_DoB'].apply(lambda x:string2date(x))\n",
    "dob=dob.apply(lambda x: x.year)\n",
    "data['ApplicantAge']=(2009 - dob)\n",
    "\n",
    "dob = data['Application_Receipt_Date'].apply(lambda x:string2date(x))\n",
    "dob=dob.apply(lambda x: x.year)\n",
    "data['ApplicantionReceiptAge']=(2009 - dob)\n",
    "\n",
    "dob = data['Manager_DoJ'].apply(lambda x:string2date(x))\n",
    "dob=dob.apply(lambda x: x.year)\n",
    "data['ManagerExp']=(2009 - dob)         #should be decomposed into number of months\n",
    "\n",
    "dob = data['Manager_DoB'].apply(lambda x:string2date(x))\n",
    "dob=dob.apply(lambda x: x.year)\n",
    "data['ManagerAge']=(2009 - dob)\n"
   ]
  },
  {
   "cell_type": "code",
   "execution_count": 10,
   "metadata": {
    "collapsed": false
   },
   "outputs": [],
   "source": [
    "# One Hot Encoding\n",
    "data_types = {'dummies':['Office_PIN','Applicant_City_PIN','Applicant_Gender','Applicant_Marital_Status',\n",
    "                   'Applicant_Occupation','Applicant_Qualification','Manager_Status','Manager_Gender',\n",
    "                   'Manager_Joining_Designation','Manager_Current_Designation']}\n",
    "\n",
    "for col in data.columns[:-1]:\n",
    "    if col in data_types['dummies']:\n",
    "        label_encoders = LabelEncoder()\n",
    "        data[col]=label_encoders.fit_transform(data[col])\n",
    "\n",
    "# Create Dummies for all the categorical columns \n",
    "data = pd.get_dummies(data, columns = data_types['dummies'])"
   ]
  },
  {
   "cell_type": "code",
   "execution_count": 11,
   "metadata": {
    "collapsed": false
   },
   "outputs": [
    {
     "name": "stderr",
     "output_type": "stream",
     "text": [
      "c:\\Anaconda2\\lib\\site-packages\\ipykernel\\__main__.py:6: SettingWithCopyWarning: \n",
      "A value is trying to be set on a copy of a slice from a DataFrame\n",
      "\n",
      "See the caveats in the documentation: http://pandas.pydata.org/pandas-docs/stable/indexing.html#indexing-view-versus-copy\n",
      "c:\\Anaconda2\\lib\\site-packages\\ipykernel\\__main__.py:7: SettingWithCopyWarning: \n",
      "A value is trying to be set on a copy of a slice from a DataFrame\n",
      "\n",
      "See the caveats in the documentation: http://pandas.pydata.org/pandas-docs/stable/indexing.html#indexing-view-versus-copy\n"
     ]
    }
   ],
   "source": [
    "# splitting back the data into train and test\n",
    "df_train=data.loc[data['source']=='train']\n",
    "df_test=data.loc[data['source']=='test']\n",
    "\n",
    "#Drop unnecessary columns\n",
    "df_test.drop(['source','Business_Sourced'],axis=1,inplace=True)\n",
    "df_train.drop(['source'],axis=1,inplace=True)"
   ]
  },
  {
   "cell_type": "code",
   "execution_count": 12,
   "metadata": {
    "collapsed": true
   },
   "outputs": [],
   "source": [
    "#Export files as modified versions for future simple usage\n",
    "df_train.to_csv(\"/Users/PraveenGupta/Downloads/Hackathon/SmartRecruits/Final/train_modified.csv\",index=False)\n",
    "df_test.to_csv(\"/Users/PraveenGupta/Downloads/Hackathon/SmartRecruits/Final/test_modified.csv\",index=False)"
   ]
  },
  {
   "cell_type": "code",
   "execution_count": 13,
   "metadata": {
    "collapsed": true
   },
   "outputs": [],
   "source": [
    "import xgboost as xgb\n",
    "from xgboost.sklearn import XGBClassifier\n",
    "from sklearn import cross_validation, metrics\n",
    "\n",
    "target = 'Business_Sourced'\n",
    "IDCol = ['ID']\n",
    "\n",
    "#Function for XGBoost\n",
    "def xGBmodelfit(alg,dtrain,dtest,predictors,filename,useTrainCV=True, cv_folds=5,early_stopping_rounds=200):\n",
    "    print datetime.now().time()\n",
    "    if useTrainCV:\n",
    "        xgb_param=alg.get_xgb_params()\n",
    "        xgtrain = xgb.DMatrix(dtrain[predictors].values,label = dtrain[target].values)\n",
    "        cvresult = xgb.cv(xgb_param,xgtrain,num_boost_round=alg.get_params()['n_estimators'],\n",
    "            nfold=cv_folds,metrics='auc',early_stopping_rounds=early_stopping_rounds)#,show_progress=False)\n",
    "        alg.set_params(n_estimators=cvresult.shape[0])#,booster='gbtree')\n",
    "    \n",
    "    bestNoOfRounds = cvresult['test-auc-mean'].argmax()\n",
    "    bestAnsForThisSetting =  cvresult.ix[bestNoOfRounds]\n",
    "    bestModelEval = bestAnsForThisSetting[0]\n",
    "    print \"Best Num of Rounds %.7g\" %bestNoOfRounds\n",
    "    print \"Best Model Eval (Test-AUC) %.7g\" %bestModelEval\n",
    "    \n",
    "    alg.fit(dtrain[predictors],dtrain[target],eval_metric='auc')#,eta=0.0001)\n",
    "    \n",
    "#   Predicting training data\n",
    "    dtrain_predictions = alg.predict(dtrain[predictors])\n",
    "    dtrain_predprob=alg.predict_proba(dtrain[predictors])[:,1]       \n",
    "    \n",
    "    print \"\\nModel Report\"\n",
    "    print \"Accuracy : %.4g\" %metrics.accuracy_score(dtrain[target],dtrain_predictions)\n",
    "    print \"AUC Score (train) : %f\" %metrics.roc_auc_score(dtrain[target],dtrain_predprob)\n",
    "    \n",
    "#   Feature importance plot\n",
    "    feat_imp = pd.Series(alg.booster().get_fscore()).sort_values(ascending=False)\n",
    "    feat_imp.plot(kind='bar',title = 'Feature Importance')\n",
    "    plt.ylabel('Feature Importance score')\n",
    "    \n",
    "    #Predict on testing data\n",
    "    dtest[target]=alg.predict_proba(dtest[predictors])[:,1]\n",
    "    \n",
    "    #Export submission file\n",
    "    IDCol.append(target)\n",
    "    submission = pd.DataFrame({x : dtest[x] for x in IDCol})\n",
    "    submission.to_csv(filename,index=False)\n",
    "    \n",
    "    print datetime.now().time()"
   ]
  },
  {
   "cell_type": "code",
   "execution_count": 14,
   "metadata": {
    "collapsed": false
   },
   "outputs": [
    {
     "name": "stdout",
     "output_type": "stream",
     "text": [
      "18:21:17.722000\n",
      "Best Num of Rounds 196\n",
      "Best Model Eval (Test-AUC) 0.6323636\n",
      "\n",
      "Model Report\n",
      "Accuracy : 0.6971\n",
      "AUC Score (train) : 0.741543\n",
      "18:27:10.907000\n"
     ]
    },
    {
     "name": "stderr",
     "output_type": "stream",
     "text": [
      "c:\\Anaconda2\\lib\\site-packages\\ipykernel\\__main__.py:40: SettingWithCopyWarning: \n",
      "A value is trying to be set on a copy of a slice from a DataFrame.\n",
      "Try using .loc[row_indexer,col_indexer] = value instead\n",
      "\n",
      "See the caveats in the documentation: http://pandas.pydata.org/pandas-docs/stable/indexing.html#indexing-view-versus-copy\n"
     ]
    }
   ],
   "source": [
    "%matplotlib qt\n",
    "extra = ['Applicant_DoB','Application_Receipt_Date','Manager_DoJ','Manager_DoB']\n",
    "\n",
    "predictors = [x for x in df_train.columns if x not in [target]+IDCol+extra]\n",
    "\n",
    "xgb1 = XGBClassifier(\n",
    "objective = 'binary:logistic',\n",
    "learning_rate=0.05,\n",
    "n_estimators = 200,\n",
    "max_depth=5,\n",
    "min_child_weight=5,\n",
    "subsample=0.8,\n",
    "colsample_bytree=0.5,\n",
    "nthread=4,\n",
    "seed=27)\n",
    "\n",
    "xGBmodelfit(xgb1,df_train,df_test,predictors,'Final/submission_xgBoost.csv')"
   ]
  },
  {
   "cell_type": "code",
   "execution_count": null,
   "metadata": {
    "collapsed": true
   },
   "outputs": [],
   "source": []
  }
 ],
 "metadata": {
  "kernelspec": {
   "display_name": "Python 2",
   "language": "python",
   "name": "python2"
  },
  "language_info": {
   "codemirror_mode": {
    "name": "ipython",
    "version": 2
   },
   "file_extension": ".py",
   "mimetype": "text/x-python",
   "name": "python",
   "nbconvert_exporter": "python",
   "pygments_lexer": "ipython2",
   "version": "2.7.11"
  }
 },
 "nbformat": 4,
 "nbformat_minor": 0
}
